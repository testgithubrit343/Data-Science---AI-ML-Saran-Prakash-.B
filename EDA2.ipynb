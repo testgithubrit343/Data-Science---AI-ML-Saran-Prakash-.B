{
 "cells": [
  {
   "cell_type": "code",
   "execution_count": 1,
   "id": "27fd8b39-e853-4824-9651-a401e144cad5",
   "metadata": {},
   "outputs": [
    {
     "name": "stdout",
     "output_type": "stream",
     "text": [
      "Package            Version\n",
      "------------------ -----------\n",
      "Note: you may need to restart the kernel to use updated packages.\n",
      "asttokens          2.0.5\n",
      "backcall           0.2.0\n",
      "colorama           0.4.6\n",
      "comm               0.2.1\n",
      "debugpy            1.8.11\n",
      "decorator          5.1.1\n",
      "exceptiongroup     1.2.0\n",
      "executing          0.8.3\n",
      "importlib_metadata 8.5.0\n",
      "ipykernel          6.29.5\n",
      "ipython            8.15.0\n",
      "jedi               0.19.2\n",
      "jupyter_client     8.6.3\n",
      "jupyter_core       5.7.2\n",
      "matplotlib-inline  0.1.6\n",
      "nest-asyncio       1.6.0\n",
      "packaging          24.2\n",
      "parso              0.8.4\n",
      "pickleshare        0.7.5\n",
      "pip                25.0\n",
      "platformdirs       3.10.0\n",
      "prompt-toolkit     3.0.43\n",
      "psutil             5.9.0\n",
      "pure-eval          0.2.2\n",
      "Pygments           2.15.1\n",
      "python-dateutil    2.9.0.post0\n",
      "pywin32            308\n",
      "pyzmq              26.2.0\n",
      "setuptools         75.8.0\n",
      "six                1.16.0\n",
      "stack-data         0.2.0\n",
      "tornado            6.4.2\n",
      "traitlets          5.14.3\n",
      "typing_extensions  4.12.2\n",
      "wcwidth            0.2.5\n",
      "wheel              0.45.1\n",
      "zipp               3.21.0\n"
     ]
    }
   ],
   "source": [
    "pip list"
   ]
  },
  {
   "cell_type": "code",
   "execution_count": 2,
   "id": "6515f13c-262c-4a43-9328-06a55ccbb082",
   "metadata": {},
   "outputs": [
    {
     "name": "stdout",
     "output_type": "stream",
     "text": [
      "Collecting ppscore\n",
      "  Using cached ppscore-1.3.0.tar.gz (17 kB)\n",
      "  Preparing metadata (setup.py): started\n",
      "  Preparing metadata (setup.py): finished with status 'done'\n",
      "Collecting pandas<2.0.0,>=1.0.0 (from ppscore)\n",
      "  Downloading pandas-1.5.3-cp39-cp39-win_amd64.whl.metadata (12 kB)\n",
      "Collecting scikit-learn<2.0.0,>=0.20.2 (from ppscore)\n",
      "  Downloading scikit_learn-1.6.1-cp39-cp39-win_amd64.whl.metadata (15 kB)\n",
      "Requirement already satisfied: python-dateutil>=2.8.1 in c:\\users\\psara\\anaconda3\\envs\\myenv\\lib\\site-packages (from pandas<2.0.0,>=1.0.0->ppscore) (2.9.0.post0)\n",
      "Collecting pytz>=2020.1 (from pandas<2.0.0,>=1.0.0->ppscore)\n",
      "  Using cached pytz-2025.2-py2.py3-none-any.whl.metadata (22 kB)\n",
      "Collecting numpy>=1.20.3 (from pandas<2.0.0,>=1.0.0->ppscore)\n",
      "  Downloading numpy-2.0.2-cp39-cp39-win_amd64.whl.metadata (59 kB)\n",
      "Collecting scipy>=1.6.0 (from scikit-learn<2.0.0,>=0.20.2->ppscore)\n",
      "  Downloading scipy-1.13.1-cp39-cp39-win_amd64.whl.metadata (60 kB)\n",
      "Collecting joblib>=1.2.0 (from scikit-learn<2.0.0,>=0.20.2->ppscore)\n",
      "  Using cached joblib-1.4.2-py3-none-any.whl.metadata (5.4 kB)\n",
      "Collecting threadpoolctl>=3.1.0 (from scikit-learn<2.0.0,>=0.20.2->ppscore)\n",
      "  Using cached threadpoolctl-3.6.0-py3-none-any.whl.metadata (13 kB)\n",
      "Requirement already satisfied: six>=1.5 in c:\\users\\psara\\anaconda3\\envs\\myenv\\lib\\site-packages (from python-dateutil>=2.8.1->pandas<2.0.0,>=1.0.0->ppscore) (1.16.0)\n",
      "Downloading pandas-1.5.3-cp39-cp39-win_amd64.whl (10.9 MB)\n",
      "   ---------------------------------------- 0.0/10.9 MB ? eta -:--:--\n",
      "   ---- ----------------------------------- 1.3/10.9 MB 9.6 MB/s eta 0:00:02\n",
      "   ----------- ---------------------------- 3.1/10.9 MB 8.0 MB/s eta 0:00:01\n",
      "   ------------------- -------------------- 5.2/10.9 MB 9.1 MB/s eta 0:00:01\n",
      "   ---------------------- ----------------- 6.0/10.9 MB 8.0 MB/s eta 0:00:01\n",
      "   ---------------------------- ----------- 7.9/10.9 MB 7.6 MB/s eta 0:00:01\n",
      "   ------------------------------- -------- 8.7/10.9 MB 7.5 MB/s eta 0:00:01\n",
      "   ----------------------------------- ---- 9.7/10.9 MB 7.0 MB/s eta 0:00:01\n",
      "   ---------------------------------------- 10.9/10.9 MB 6.6 MB/s eta 0:00:00\n",
      "Downloading scikit_learn-1.6.1-cp39-cp39-win_amd64.whl (11.2 MB)\n",
      "   ---------------------------------------- 0.0/11.2 MB ? eta -:--:--\n",
      "   ---- ----------------------------------- 1.3/11.2 MB 6.1 MB/s eta 0:00:02\n",
      "   --------- ------------------------------ 2.6/11.2 MB 6.6 MB/s eta 0:00:02\n",
      "   ------------- -------------------------- 3.7/11.2 MB 5.7 MB/s eta 0:00:02\n",
      "   ----------------- ---------------------- 5.0/11.2 MB 6.0 MB/s eta 0:00:02\n",
      "   ----------------------- ---------------- 6.6/11.2 MB 6.2 MB/s eta 0:00:01\n",
      "   ------------------------------ --------- 8.4/11.2 MB 6.7 MB/s eta 0:00:01\n",
      "   ----------------------------------- ---- 10.0/11.2 MB 6.9 MB/s eta 0:00:01\n",
      "   ---------------------------------------- 11.2/11.2 MB 6.8 MB/s eta 0:00:00\n",
      "Using cached joblib-1.4.2-py3-none-any.whl (301 kB)\n",
      "Downloading numpy-2.0.2-cp39-cp39-win_amd64.whl (15.9 MB)\n",
      "   ---------------------------------------- 0.0/15.9 MB ? eta -:--:--\n",
      "   -- ------------------------------------- 1.0/15.9 MB 6.3 MB/s eta 0:00:03\n",
      "   ----- ---------------------------------- 2.1/15.9 MB 5.3 MB/s eta 0:00:03\n",
      "   ------- -------------------------------- 3.1/15.9 MB 5.4 MB/s eta 0:00:03\n",
      "   ------------- -------------------------- 5.2/15.9 MB 6.5 MB/s eta 0:00:02\n",
      "   ----------------- ---------------------- 7.1/15.9 MB 7.0 MB/s eta 0:00:02\n",
      "   --------------------- ------------------ 8.4/15.9 MB 6.8 MB/s eta 0:00:02\n",
      "   ------------------------- -------------- 10.0/15.9 MB 6.9 MB/s eta 0:00:01\n",
      "   ---------------------------- ----------- 11.5/15.9 MB 6.9 MB/s eta 0:00:01\n",
      "   ---------------------------------- ----- 13.9/15.9 MB 7.5 MB/s eta 0:00:01\n",
      "   ---------------------------------------  15.7/15.9 MB 7.7 MB/s eta 0:00:01\n",
      "   ---------------------------------------- 15.9/15.9 MB 7.5 MB/s eta 0:00:00\n",
      "Using cached pytz-2025.2-py2.py3-none-any.whl (509 kB)\n",
      "Downloading scipy-1.13.1-cp39-cp39-win_amd64.whl (46.2 MB)\n",
      "   ---------------------------------------- 0.0/46.2 MB ? eta -:--:--\n",
      "   - -------------------------------------- 1.3/46.2 MB 8.4 MB/s eta 0:00:06\n",
      "   --- ------------------------------------ 3.7/46.2 MB 8.1 MB/s eta 0:00:06\n",
      "   ---- ----------------------------------- 5.5/46.2 MB 8.8 MB/s eta 0:00:05\n",
      "   ------ --------------------------------- 7.3/46.2 MB 8.5 MB/s eta 0:00:05\n",
      "   ------- -------------------------------- 9.2/46.2 MB 8.4 MB/s eta 0:00:05\n",
      "   --------- ------------------------------ 11.0/46.2 MB 8.7 MB/s eta 0:00:05\n",
      "   ----------- ---------------------------- 13.4/46.2 MB 8.9 MB/s eta 0:00:04\n",
      "   ------------- -------------------------- 16.0/46.2 MB 9.3 MB/s eta 0:00:04\n",
      "   --------------- ------------------------ 18.1/46.2 MB 9.3 MB/s eta 0:00:04\n",
      "   ----------------- ---------------------- 20.2/46.2 MB 9.4 MB/s eta 0:00:03\n",
      "   ------------------- -------------------- 22.5/46.2 MB 9.6 MB/s eta 0:00:03\n",
      "   -------------------- ------------------- 24.1/46.2 MB 9.5 MB/s eta 0:00:03\n",
      "   ---------------------- ----------------- 25.4/46.2 MB 9.2 MB/s eta 0:00:03\n",
      "   ----------------------- ---------------- 27.3/46.2 MB 9.1 MB/s eta 0:00:03\n",
      "   ------------------------- -------------- 29.4/46.2 MB 9.1 MB/s eta 0:00:02\n",
      "   --------------------------- ------------ 31.5/46.2 MB 9.2 MB/s eta 0:00:02\n",
      "   ---------------------------- ----------- 33.0/46.2 MB 9.2 MB/s eta 0:00:02\n",
      "   ----------------------------- ---------- 34.6/46.2 MB 9.0 MB/s eta 0:00:02\n",
      "   ------------------------------- -------- 35.9/46.2 MB 8.9 MB/s eta 0:00:02\n",
      "   -------------------------------- ------- 38.0/46.2 MB 8.9 MB/s eta 0:00:01\n",
      "   ---------------------------------- ----- 39.6/46.2 MB 8.9 MB/s eta 0:00:01\n",
      "   ----------------------------------- ---- 41.2/46.2 MB 8.8 MB/s eta 0:00:01\n",
      "   ------------------------------------- -- 43.0/46.2 MB 8.8 MB/s eta 0:00:01\n",
      "   ---------------------------------------  45.1/46.2 MB 8.8 MB/s eta 0:00:01\n",
      "   ---------------------------------------  46.1/46.2 MB 8.8 MB/s eta 0:00:01\n",
      "   ---------------------------------------- 46.2/46.2 MB 8.6 MB/s eta 0:00:00\n",
      "Using cached threadpoolctl-3.6.0-py3-none-any.whl (18 kB)\n",
      "Building wheels for collected packages: ppscore\n",
      "  Building wheel for ppscore (setup.py): started\n",
      "  Building wheel for ppscore (setup.py): finished with status 'done'\n",
      "  Created wheel for ppscore: filename=ppscore-1.3.0-py2.py3-none-any.whl size=13217 sha256=e0670214aaed3ade8b0481d066d20d3577c4d48946090f176ffbd522db8f7477\n",
      "  Stored in directory: c:\\users\\psara\\appdata\\local\\pip\\cache\\wheels\\d8\\2d\\fc\\c1699298a1241684a460b125835f7871ee8e3ab3afea9b5d6f\n",
      "Successfully built ppscore\n",
      "Installing collected packages: pytz, threadpoolctl, numpy, joblib, scipy, pandas, scikit-learn, ppscore\n",
      "Successfully installed joblib-1.4.2 numpy-2.0.2 pandas-1.5.3 ppscore-1.3.0 pytz-2025.2 scikit-learn-1.6.1 scipy-1.13.1 threadpoolctl-3.6.0\n",
      "Note: you may need to restart the kernel to use updated packages.\n"
     ]
    }
   ],
   "source": [
    "pip install ppscore"
   ]
  },
  {
   "cell_type": "code",
   "execution_count": 1,
   "id": "ea192763-95ad-4776-8783-ea750e7a7257",
   "metadata": {},
   "outputs": [
    {
     "name": "stdout",
     "output_type": "stream",
     "text": [
      "Package            Version\n",
      "------------------ -----------\n",
      "asttokens          2.0.5\n",
      "backcall           0.2.0\n",
      "colorama           0.4.6\n",
      "comm               0.2.1\n",
      "debugpy            1.8.11\n",
      "decorator          5.1.1\n",
      "exceptiongroup     1.2.0\n",
      "executing          0.8.3\n",
      "importlib_metadata 8.5.0\n",
      "ipykernel          6.29.5\n",
      "ipython            8.15.0\n",
      "jedi               0.19.2\n",
      "joblib             1.4.2\n",
      "jupyter_client     8.6.3\n",
      "jupyter_core       5.7.2\n",
      "matplotlib-inline  0.1.6\n",
      "nest-asyncio       1.6.0\n",
      "numpy              2.0.2\n",
      "packaging          24.2\n",
      "pandas             1.5.3\n",
      "parso              0.8.4\n",
      "pickleshare        0.7.5\n",
      "pip                25.0\n",
      "platformdirs       3.10.0\n",
      "ppscore            1.3.0\n",
      "prompt-toolkit     3.0.43\n",
      "psutil             5.9.0\n",
      "pure-eval          0.2.2\n",
      "Pygments           2.15.1\n",
      "python-dateutil    2.9.0.post0\n",
      "pytz               2025.2\n",
      "pywin32            308\n",
      "pyzmq              26.2.0\n",
      "scikit-learn       1.6.1\n",
      "scipy              1.13.1\n",
      "setuptools         75.8.0\n",
      "six                1.16.0\n",
      "stack-data         0.2.0\n",
      "threadpoolctl      3.6.0\n",
      "tornado            6.4.2\n",
      "traitlets          5.14.3\n",
      "typing_extensions  4.12.2\n",
      "wcwidth            0.2.5\n",
      "wheel              0.45.1\n",
      "zipp               3.21.0\n",
      "Note: you may need to restart the kernel to use updated packages.\n"
     ]
    }
   ],
   "source": [
    "pip list"
   ]
  },
  {
   "cell_type": "code",
   "execution_count": 4,
   "id": "6639fa2c-d595-44c3-89b9-d24852400bdc",
   "metadata": {},
   "outputs": [
    {
     "name": "stdout",
     "output_type": "stream",
     "text": [
      "Collecting numpy==1.26.4\n",
      "  Downloading numpy-1.26.4-cp39-cp39-win_amd64.whl.metadata (61 kB)\n",
      "Downloading numpy-1.26.4-cp39-cp39-win_amd64.whl (15.8 MB)\n",
      "   ---------------------------------------- 0.0/15.8 MB ? eta -:--:--\n",
      "   -- ------------------------------------- 1.0/15.8 MB 7.2 MB/s eta 0:00:03\n",
      "   ----- ---------------------------------- 2.4/15.8 MB 6.7 MB/s eta 0:00:03\n",
      "   ---------- ----------------------------- 4.2/15.8 MB 7.9 MB/s eta 0:00:02\n",
      "   ------------- -------------------------- 5.5/15.8 MB 7.1 MB/s eta 0:00:02\n",
      "   ---------------- ----------------------- 6.6/15.8 MB 6.7 MB/s eta 0:00:02\n",
      "   ------------------- -------------------- 7.9/15.8 MB 6.6 MB/s eta 0:00:02\n",
      "   ----------------------- ---------------- 9.4/15.8 MB 6.6 MB/s eta 0:00:01\n",
      "   --------------------------- ------------ 10.7/15.8 MB 6.6 MB/s eta 0:00:01\n",
      "   ------------------------------ --------- 12.1/15.8 MB 6.8 MB/s eta 0:00:01\n",
      "   --------------------------------- ------ 13.4/15.8 MB 6.6 MB/s eta 0:00:01\n",
      "   ------------------------------------- -- 14.9/15.8 MB 6.6 MB/s eta 0:00:01\n",
      "   ---------------------------------------  15.7/15.8 MB 6.4 MB/s eta 0:00:01\n",
      "   ---------------------------------------- 15.8/15.8 MB 6.3 MB/s eta 0:00:00\n",
      "Installing collected packages: numpy\n",
      "  Attempting uninstall: numpy\n",
      "    Found existing installation: numpy 2.0.2\n",
      "    Uninstalling numpy-2.0.2:\n",
      "      Successfully uninstalled numpy-2.0.2\n",
      "Successfully installed numpy-1.26.4\n",
      "Note: you may need to restart the kernel to use updated packages.\n"
     ]
    },
    {
     "name": "stderr",
     "output_type": "stream",
     "text": [
      "  WARNING: Failed to remove contents in a temporary directory 'C:\\Users\\psara\\anaconda3\\envs\\myenv\\Lib\\site-packages\\~umpy.libs'.\n",
      "  You can safely remove it manually.\n",
      "  WARNING: Failed to remove contents in a temporary directory 'C:\\Users\\psara\\anaconda3\\envs\\myenv\\Lib\\site-packages\\~umpy'.\n",
      "  You can safely remove it manually.\n"
     ]
    }
   ],
   "source": [
    "pip install numpy==1.26.4"
   ]
  },
  {
   "cell_type": "code",
   "execution_count": 5,
   "id": "4bfe948d-c9c4-479c-a683-0a54829d3af7",
   "metadata": {},
   "outputs": [
    {
     "name": "stdout",
     "output_type": "stream",
     "text": [
      "Requirement already satisfied: numpy in c:\\users\\psara\\anaconda3\\envs\\myenv\\lib\\site-packages (1.26.4)\n",
      "Collecting numpy\n",
      "  Using cached numpy-2.0.2-cp39-cp39-win_amd64.whl.metadata (59 kB)\n",
      "Using cached numpy-2.0.2-cp39-cp39-win_amd64.whl (15.9 MB)\n",
      "Installing collected packages: numpy\n",
      "  Attempting uninstall: numpy\n",
      "    Found existing installation: numpy 1.26.4\n",
      "    Uninstalling numpy-1.26.4:\n",
      "      Successfully uninstalled numpy-1.26.4\n",
      "Successfully installed numpy-2.0.2\n",
      "Note: you may need to restart the kernel to use updated packages.\n"
     ]
    }
   ],
   "source": [
    "pip install --upgrade numpy"
   ]
  },
  {
   "cell_type": "code",
   "execution_count": 1,
   "id": "f0e143d0-856a-450a-89c7-ee7e374c99ad",
   "metadata": {},
   "outputs": [
    {
     "name": "stdout",
     "output_type": "stream",
     "text": [
      "Collecting numpy\n",
      "  Using cached numpy-2.0.2-cp39-cp39-win_amd64.whl.metadata (59 kB)\n",
      "Collecting pandas\n",
      "  Downloading pandas-2.2.3-cp39-cp39-win_amd64.whl.metadata (19 kB)\n",
      "Collecting python-dateutil>=2.8.2 (from pandas)\n",
      "  Using cached python_dateutil-2.9.0.post0-py2.py3-none-any.whl.metadata (8.4 kB)\n",
      "Collecting pytz>=2020.1 (from pandas)\n",
      "  Using cached pytz-2025.2-py2.py3-none-any.whl.metadata (22 kB)\n",
      "Collecting tzdata>=2022.7 (from pandas)\n",
      "  Downloading tzdata-2025.2-py2.py3-none-any.whl.metadata (1.4 kB)\n",
      "Collecting six>=1.5 (from python-dateutil>=2.8.2->pandas)\n",
      "  Using cached six-1.17.0-py2.py3-none-any.whl.metadata (1.7 kB)\n",
      "Using cached numpy-2.0.2-cp39-cp39-win_amd64.whl (15.9 MB)\n",
      "Downloading pandas-2.2.3-cp39-cp39-win_amd64.whl (11.6 MB)\n",
      "   ---------------------------------------- 0.0/11.6 MB ? eta -:--:--\n",
      "   ----- ---------------------------------- 1.6/11.6 MB 9.3 MB/s eta 0:00:02\n",
      "   ------ --------------------------------- 1.8/11.6 MB 4.6 MB/s eta 0:00:03\n",
      "   ------------ --------------------------- 3.7/11.6 MB 6.8 MB/s eta 0:00:02\n",
      "   ------------------ --------------------- 5.2/11.6 MB 6.5 MB/s eta 0:00:01\n",
      "   ------------------------- -------------- 7.3/11.6 MB 7.0 MB/s eta 0:00:01\n",
      "   --------------------------------- ------ 9.7/11.6 MB 7.7 MB/s eta 0:00:01\n",
      "   ---------------------------------------  11.5/11.6 MB 7.9 MB/s eta 0:00:01\n",
      "   ---------------------------------------- 11.6/11.6 MB 7.6 MB/s eta 0:00:00\n",
      "Using cached python_dateutil-2.9.0.post0-py2.py3-none-any.whl (229 kB)\n",
      "Using cached pytz-2025.2-py2.py3-none-any.whl (509 kB)\n",
      "Downloading tzdata-2025.2-py2.py3-none-any.whl (347 kB)\n",
      "Using cached six-1.17.0-py2.py3-none-any.whl (11 kB)\n",
      "Installing collected packages: pytz, tzdata, six, numpy, python-dateutil, pandas\n",
      "  Attempting uninstall: pytz\n",
      "    Found existing installation: pytz 2025.2\n",
      "    Uninstalling pytz-2025.2:\n",
      "      Successfully uninstalled pytz-2025.2\n",
      "  Attempting uninstall: six\n",
      "    Found existing installation: six 1.16.0\n",
      "    Uninstalling six-1.16.0:\n",
      "      Successfully uninstalled six-1.16.0\n",
      "  Attempting uninstall: numpy\n",
      "    Found existing installation: numpy 2.0.2\n",
      "    Uninstalling numpy-2.0.2:\n",
      "      Successfully uninstalled numpy-2.0.2\n",
      "  Attempting uninstall: python-dateutil\n",
      "    Found existing installation: python-dateutil 2.9.0.post0\n",
      "    Uninstalling python-dateutil-2.9.0.post0:\n",
      "      Successfully uninstalled python-dateutil-2.9.0.post0\n",
      "  Attempting uninstall: pandas\n",
      "    Found existing installation: pandas 1.5.3\n",
      "    Uninstalling pandas-1.5.3:\n",
      "      Successfully uninstalled pandas-1.5.3\n",
      "Successfully installed numpy-2.0.2 pandas-2.2.3 python-dateutil-2.9.0.post0 pytz-2025.2 six-1.17.0 tzdata-2025.2\n",
      "Note: you may need to restart the kernel to use updated packages.\n"
     ]
    },
    {
     "name": "stderr",
     "output_type": "stream",
     "text": [
      "ERROR: pip's dependency resolver does not currently take into account all the packages that are installed. This behaviour is the source of the following dependency conflicts.\n",
      "ppscore 1.3.0 requires pandas<2.0.0,>=1.0.0, but you have pandas 2.2.3 which is incompatible.\n"
     ]
    }
   ],
   "source": [
    "pip install --upgrade --force-reinstall numpy pandas"
   ]
  },
  {
   "cell_type": "code",
   "execution_count": 3,
   "id": "ede5da38-7209-47d2-a576-807c33e64547",
   "metadata": {},
   "outputs": [
    {
     "name": "stdout",
     "output_type": "stream",
     "text": [
      "Collecting pipdeptreeNote: you may need to restart the kernel to use updated packages.\n",
      "\n",
      "  Downloading pipdeptree-2.26.0-py3-none-any.whl.metadata (14 kB)\n",
      "Requirement already satisfied: packaging>=24.1 in c:\\users\\psara\\anaconda3\\envs\\myenv\\lib\\site-packages (from pipdeptree) (24.2)\n",
      "Requirement already satisfied: pip>=24.2 in c:\\users\\psara\\anaconda3\\envs\\myenv\\lib\\site-packages (from pipdeptree) (25.0)\n",
      "Downloading pipdeptree-2.26.0-py3-none-any.whl (32 kB)\n",
      "Installing collected packages: pipdeptree\n",
      "Successfully installed pipdeptree-2.26.0\n"
     ]
    }
   ],
   "source": [
    "pip install pipdeptree"
   ]
  },
  {
   "cell_type": "markdown",
   "id": "5123a173-8d68-491d-ac7b-731ac510e6b9",
   "metadata": {},
   "source": [
    "# 1. Data Exploration and Preprocessing:\n",
    "### Load the dataset and conduct basic data exploration (summary statistics, missing values, data types).\n",
    "### Handle missing values as per the best practices (imputation, removal, etc.)."
   ]
  },
  {
   "cell_type": "code",
   "execution_count": 6,
   "id": "7ee10910-4309-4605-b1e4-90b8e9eafe23",
   "metadata": {},
   "outputs": [
    {
     "name": "stdout",
     "output_type": "stream",
     "text": [
      "Collecting matplotlib\n",
      "  Downloading matplotlib-3.9.4-cp39-cp39-win_amd64.whl.metadata (11 kB)\n",
      "Collecting contourpy>=1.0.1 (from matplotlib)\n",
      "  Downloading contourpy-1.3.0-cp39-cp39-win_amd64.whl.metadata (5.4 kB)\n",
      "Collecting cycler>=0.10 (from matplotlib)\n",
      "  Downloading cycler-0.12.1-py3-none-any.whl.metadata (3.8 kB)\n",
      "Collecting fonttools>=4.22.0 (from matplotlib)\n",
      "  Downloading fonttools-4.56.0-cp39-cp39-win_amd64.whl.metadata (103 kB)\n",
      "Collecting kiwisolver>=1.3.1 (from matplotlib)\n",
      "  Downloading kiwisolver-1.4.7-cp39-cp39-win_amd64.whl.metadata (6.4 kB)\n",
      "Requirement already satisfied: numpy>=1.23 in c:\\users\\psara\\anaconda3\\envs\\myenv\\lib\\site-packages (from matplotlib) (2.0.2)\n",
      "Requirement already satisfied: packaging>=20.0 in c:\\users\\psara\\anaconda3\\envs\\myenv\\lib\\site-packages (from matplotlib) (24.2)\n",
      "Collecting pillow>=8 (from matplotlib)\n",
      "  Downloading pillow-11.1.0-cp39-cp39-win_amd64.whl.metadata (9.3 kB)\n",
      "Collecting pyparsing>=2.3.1 (from matplotlib)\n",
      "  Downloading pyparsing-3.2.3-py3-none-any.whl.metadata (5.0 kB)\n",
      "Requirement already satisfied: python-dateutil>=2.7 in c:\\users\\psara\\anaconda3\\envs\\myenv\\lib\\site-packages (from matplotlib) (2.9.0.post0)\n",
      "Collecting importlib-resources>=3.2.0 (from matplotlib)\n",
      "  Downloading importlib_resources-6.5.2-py3-none-any.whl.metadata (3.9 kB)\n",
      "Requirement already satisfied: zipp>=3.1.0 in c:\\users\\psara\\anaconda3\\envs\\myenv\\lib\\site-packages (from importlib-resources>=3.2.0->matplotlib) (3.21.0)\n",
      "Requirement already satisfied: six>=1.5 in c:\\users\\psara\\anaconda3\\envs\\myenv\\lib\\site-packages (from python-dateutil>=2.7->matplotlib) (1.17.0)\n",
      "Downloading matplotlib-3.9.4-cp39-cp39-win_amd64.whl (7.8 MB)\n",
      "   ---------------------------------------- 0.0/7.8 MB ? eta -:--:--\n",
      "   ------ --------------------------------- 1.3/7.8 MB 7.4 MB/s eta 0:00:01\n",
      "   ---------- ----------------------------- 2.1/7.8 MB 6.9 MB/s eta 0:00:01\n",
      "   ------------- -------------------------- 2.6/7.8 MB 4.2 MB/s eta 0:00:02\n",
      "   -------------- ------------------------- 2.9/7.8 MB 3.6 MB/s eta 0:00:02\n",
      "   ---------------- ----------------------- 3.1/7.8 MB 3.4 MB/s eta 0:00:02\n",
      "   --------------------- ------------------ 4.2/7.8 MB 3.3 MB/s eta 0:00:02\n",
      "   ------------------------- -------------- 5.0/7.8 MB 3.4 MB/s eta 0:00:01\n",
      "   ---------------------------- ----------- 5.5/7.8 MB 3.2 MB/s eta 0:00:01\n",
      "   -------------------------------- ------- 6.3/7.8 MB 3.2 MB/s eta 0:00:01\n",
      "   ---------------------------------- ----- 6.8/7.8 MB 3.3 MB/s eta 0:00:01\n",
      "   ------------------------------------ --- 7.1/7.8 MB 3.2 MB/s eta 0:00:01\n",
      "   ---------------------------------------- 7.8/7.8 MB 3.1 MB/s eta 0:00:00\n",
      "Downloading contourpy-1.3.0-cp39-cp39-win_amd64.whl (211 kB)\n",
      "Downloading cycler-0.12.1-py3-none-any.whl (8.3 kB)\n",
      "Downloading fonttools-4.56.0-cp39-cp39-win_amd64.whl (2.2 MB)\n",
      "   ---------------------------------------- 0.0/2.2 MB ? eta -:--:--\n",
      "   --------- ------------------------------ 0.5/2.2 MB 4.2 MB/s eta 0:00:01\n",
      "   ---------------------------- ----------- 1.6/2.2 MB 4.0 MB/s eta 0:00:01\n",
      "   ---------------------------------------- 2.2/2.2 MB 4.4 MB/s eta 0:00:00\n",
      "Downloading importlib_resources-6.5.2-py3-none-any.whl (37 kB)\n",
      "Downloading kiwisolver-1.4.7-cp39-cp39-win_amd64.whl (55 kB)\n",
      "Downloading pillow-11.1.0-cp39-cp39-win_amd64.whl (2.6 MB)\n",
      "   ---------------------------------------- 0.0/2.6 MB ? eta -:--:--\n",
      "   --------------- ------------------------ 1.0/2.6 MB 7.2 MB/s eta 0:00:01\n",
      "   ---------------------------------------- 2.6/2.6 MB 7.6 MB/s eta 0:00:00\n",
      "Downloading pyparsing-3.2.3-py3-none-any.whl (111 kB)\n",
      "Installing collected packages: pyparsing, pillow, kiwisolver, importlib-resources, fonttools, cycler, contourpy, matplotlib\n",
      "Successfully installed contourpy-1.3.0 cycler-0.12.1 fonttools-4.56.0 importlib-resources-6.5.2 kiwisolver-1.4.7 matplotlib-3.9.4 pillow-11.1.0 pyparsing-3.2.3\n",
      "Note: you may need to restart the kernel to use updated packages.\n"
     ]
    }
   ],
   "source": [
    "pip install matplotlib"
   ]
  },
  {
   "cell_type": "code",
   "execution_count": 2,
   "id": "182fa6c8-c7ba-4280-acf3-8d6159af9a16",
   "metadata": {},
   "outputs": [
    {
     "name": "stdout",
     "output_type": "stream",
     "text": [
      "Collecting seaborn\n",
      "  Downloading seaborn-0.13.2-py3-none-any.whl.metadata (5.4 kB)\n",
      "Requirement already satisfied: numpy!=1.24.0,>=1.20 in c:\\users\\psara\\anaconda3\\envs\\myenv\\lib\\site-packages (from seaborn) (2.0.2)\n",
      "Requirement already satisfied: pandas>=1.2 in c:\\users\\psara\\anaconda3\\envs\\myenv\\lib\\site-packages (from seaborn) (2.2.3)\n",
      "Requirement already satisfied: matplotlib!=3.6.1,>=3.4 in c:\\users\\psara\\anaconda3\\envs\\myenv\\lib\\site-packages (from seaborn) (3.9.4)\n",
      "Requirement already satisfied: contourpy>=1.0.1 in c:\\users\\psara\\anaconda3\\envs\\myenv\\lib\\site-packages (from matplotlib!=3.6.1,>=3.4->seaborn) (1.3.0)\n",
      "Requirement already satisfied: cycler>=0.10 in c:\\users\\psara\\anaconda3\\envs\\myenv\\lib\\site-packages (from matplotlib!=3.6.1,>=3.4->seaborn) (0.12.1)\n",
      "Requirement already satisfied: fonttools>=4.22.0 in c:\\users\\psara\\anaconda3\\envs\\myenv\\lib\\site-packages (from matplotlib!=3.6.1,>=3.4->seaborn) (4.56.0)\n",
      "Requirement already satisfied: kiwisolver>=1.3.1 in c:\\users\\psara\\anaconda3\\envs\\myenv\\lib\\site-packages (from matplotlib!=3.6.1,>=3.4->seaborn) (1.4.7)\n",
      "Requirement already satisfied: packaging>=20.0 in c:\\users\\psara\\anaconda3\\envs\\myenv\\lib\\site-packages (from matplotlib!=3.6.1,>=3.4->seaborn) (24.2)\n",
      "Requirement already satisfied: pillow>=8 in c:\\users\\psara\\anaconda3\\envs\\myenv\\lib\\site-packages (from matplotlib!=3.6.1,>=3.4->seaborn) (11.1.0)\n",
      "Requirement already satisfied: pyparsing>=2.3.1 in c:\\users\\psara\\anaconda3\\envs\\myenv\\lib\\site-packages (from matplotlib!=3.6.1,>=3.4->seaborn) (3.2.3)\n",
      "Requirement already satisfied: python-dateutil>=2.7 in c:\\users\\psara\\anaconda3\\envs\\myenv\\lib\\site-packages (from matplotlib!=3.6.1,>=3.4->seaborn) (2.9.0.post0)\n",
      "Requirement already satisfied: importlib-resources>=3.2.0 in c:\\users\\psara\\anaconda3\\envs\\myenv\\lib\\site-packages (from matplotlib!=3.6.1,>=3.4->seaborn) (6.5.2)\n",
      "Requirement already satisfied: pytz>=2020.1 in c:\\users\\psara\\anaconda3\\envs\\myenv\\lib\\site-packages (from pandas>=1.2->seaborn) (2025.2)\n",
      "Requirement already satisfied: tzdata>=2022.7 in c:\\users\\psara\\anaconda3\\envs\\myenv\\lib\\site-packages (from pandas>=1.2->seaborn) (2025.2)\n",
      "Requirement already satisfied: zipp>=3.1.0 in c:\\users\\psara\\anaconda3\\envs\\myenv\\lib\\site-packages (from importlib-resources>=3.2.0->matplotlib!=3.6.1,>=3.4->seaborn) (3.21.0)\n",
      "Requirement already satisfied: six>=1.5 in c:\\users\\psara\\anaconda3\\envs\\myenv\\lib\\site-packages (from python-dateutil>=2.7->matplotlib!=3.6.1,>=3.4->seaborn) (1.17.0)\n",
      "Downloading seaborn-0.13.2-py3-none-any.whl (294 kB)\n",
      "Installing collected packages: seaborn\n",
      "Successfully installed seaborn-0.13.2\n",
      "Note: you may need to restart the kernel to use updated packages.\n"
     ]
    }
   ],
   "source": [
    "pip install seaborn"
   ]
  },
  {
   "cell_type": "code",
   "execution_count": 1,
   "id": "57657d86-d345-4d70-8104-049f4686e96c",
   "metadata": {},
   "outputs": [],
   "source": [
    "import pandas as pd\n",
    "import numpy as np\n",
    "import matplotlib.pyplot as plt\n",
    "import seaborn as sns\n",
    "from sklearn.preprocessing import StandardScaler,MinMaxScaler,LabelEncoder,OneHotEncoder \n",
    "from sklearn.ensemble import IsolationForest\n",
    "from sklearn.model_selection import train_test_split"
   ]
  },
  {
   "cell_type": "code",
   "execution_count": 2,
   "id": "651b796c-ac4b-42b8-83cf-c97beeed48cd",
   "metadata": {},
   "outputs": [
    {
     "data": {
      "text/html": [
       "<div>\n",
       "<style scoped>\n",
       "    .dataframe tbody tr th:only-of-type {\n",
       "        vertical-align: middle;\n",
       "    }\n",
       "\n",
       "    .dataframe tbody tr th {\n",
       "        vertical-align: top;\n",
       "    }\n",
       "\n",
       "    .dataframe thead th {\n",
       "        text-align: right;\n",
       "    }\n",
       "</style>\n",
       "<table border=\"1\" class=\"dataframe\">\n",
       "  <thead>\n",
       "    <tr style=\"text-align: right;\">\n",
       "      <th></th>\n",
       "      <th>age</th>\n",
       "      <th>workclass</th>\n",
       "      <th>fnlwgt</th>\n",
       "      <th>education</th>\n",
       "      <th>education_num</th>\n",
       "      <th>marital_status</th>\n",
       "      <th>occupation</th>\n",
       "      <th>relationship</th>\n",
       "      <th>race</th>\n",
       "      <th>sex</th>\n",
       "      <th>capital_gain</th>\n",
       "      <th>capital_loss</th>\n",
       "      <th>hours_per_week</th>\n",
       "      <th>native_country</th>\n",
       "      <th>income</th>\n",
       "    </tr>\n",
       "  </thead>\n",
       "  <tbody>\n",
       "    <tr>\n",
       "      <th>0</th>\n",
       "      <td>39</td>\n",
       "      <td>State-gov</td>\n",
       "      <td>77516</td>\n",
       "      <td>Bachelors</td>\n",
       "      <td>13</td>\n",
       "      <td>Never-married</td>\n",
       "      <td>Adm-clerical</td>\n",
       "      <td>Not-in-family</td>\n",
       "      <td>White</td>\n",
       "      <td>Male</td>\n",
       "      <td>2174</td>\n",
       "      <td>0</td>\n",
       "      <td>40</td>\n",
       "      <td>United-States</td>\n",
       "      <td>&lt;=50K</td>\n",
       "    </tr>\n",
       "    <tr>\n",
       "      <th>1</th>\n",
       "      <td>50</td>\n",
       "      <td>Self-emp-not-inc</td>\n",
       "      <td>83311</td>\n",
       "      <td>Bachelors</td>\n",
       "      <td>13</td>\n",
       "      <td>Married-civ-spouse</td>\n",
       "      <td>Exec-managerial</td>\n",
       "      <td>Husband</td>\n",
       "      <td>White</td>\n",
       "      <td>Male</td>\n",
       "      <td>0</td>\n",
       "      <td>0</td>\n",
       "      <td>13</td>\n",
       "      <td>United-States</td>\n",
       "      <td>&lt;=50K</td>\n",
       "    </tr>\n",
       "    <tr>\n",
       "      <th>2</th>\n",
       "      <td>38</td>\n",
       "      <td>Private</td>\n",
       "      <td>215646</td>\n",
       "      <td>HS-grad</td>\n",
       "      <td>9</td>\n",
       "      <td>Divorced</td>\n",
       "      <td>Handlers-cleaners</td>\n",
       "      <td>Not-in-family</td>\n",
       "      <td>White</td>\n",
       "      <td>Male</td>\n",
       "      <td>0</td>\n",
       "      <td>0</td>\n",
       "      <td>40</td>\n",
       "      <td>United-States</td>\n",
       "      <td>&lt;=50K</td>\n",
       "    </tr>\n",
       "    <tr>\n",
       "      <th>3</th>\n",
       "      <td>53</td>\n",
       "      <td>Private</td>\n",
       "      <td>234721</td>\n",
       "      <td>11th</td>\n",
       "      <td>7</td>\n",
       "      <td>Married-civ-spouse</td>\n",
       "      <td>Handlers-cleaners</td>\n",
       "      <td>Husband</td>\n",
       "      <td>Black</td>\n",
       "      <td>Male</td>\n",
       "      <td>0</td>\n",
       "      <td>0</td>\n",
       "      <td>40</td>\n",
       "      <td>United-States</td>\n",
       "      <td>&lt;=50K</td>\n",
       "    </tr>\n",
       "    <tr>\n",
       "      <th>4</th>\n",
       "      <td>28</td>\n",
       "      <td>Private</td>\n",
       "      <td>338409</td>\n",
       "      <td>Bachelors</td>\n",
       "      <td>13</td>\n",
       "      <td>Married-civ-spouse</td>\n",
       "      <td>Prof-specialty</td>\n",
       "      <td>Wife</td>\n",
       "      <td>Black</td>\n",
       "      <td>Female</td>\n",
       "      <td>0</td>\n",
       "      <td>0</td>\n",
       "      <td>40</td>\n",
       "      <td>Cuba</td>\n",
       "      <td>&lt;=50K</td>\n",
       "    </tr>\n",
       "  </tbody>\n",
       "</table>\n",
       "</div>"
      ],
      "text/plain": [
       "   age          workclass  fnlwgt   education  education_num  \\\n",
       "0   39          State-gov   77516   Bachelors             13   \n",
       "1   50   Self-emp-not-inc   83311   Bachelors             13   \n",
       "2   38            Private  215646     HS-grad              9   \n",
       "3   53            Private  234721        11th              7   \n",
       "4   28            Private  338409   Bachelors             13   \n",
       "\n",
       "        marital_status          occupation    relationship    race      sex  \\\n",
       "0        Never-married        Adm-clerical   Not-in-family   White     Male   \n",
       "1   Married-civ-spouse     Exec-managerial         Husband   White     Male   \n",
       "2             Divorced   Handlers-cleaners   Not-in-family   White     Male   \n",
       "3   Married-civ-spouse   Handlers-cleaners         Husband   Black     Male   \n",
       "4   Married-civ-spouse      Prof-specialty            Wife   Black   Female   \n",
       "\n",
       "   capital_gain  capital_loss  hours_per_week  native_country  income  \n",
       "0          2174             0              40   United-States   <=50K  \n",
       "1             0             0              13   United-States   <=50K  \n",
       "2             0             0              40   United-States   <=50K  \n",
       "3             0             0              40   United-States   <=50K  \n",
       "4             0             0              40            Cuba   <=50K  "
      ]
     },
     "execution_count": 2,
     "metadata": {},
     "output_type": "execute_result"
    }
   ],
   "source": [
    "df = pd.read_csv('adult_with_headers.csv')\n",
    "df.head()"
   ]
  },
  {
   "cell_type": "code",
   "execution_count": 3,
   "id": "2014fdf4-0310-4b08-a924-5f7200725767",
   "metadata": {},
   "outputs": [
    {
     "name": "stdout",
     "output_type": "stream",
     "text": [
      "<class 'pandas.core.frame.DataFrame'>\n",
      "RangeIndex: 32561 entries, 0 to 32560\n",
      "Data columns (total 15 columns):\n",
      " #   Column          Non-Null Count  Dtype \n",
      "---  ------          --------------  ----- \n",
      " 0   age             32561 non-null  int64 \n",
      " 1   workclass       32561 non-null  object\n",
      " 2   fnlwgt          32561 non-null  int64 \n",
      " 3   education       32561 non-null  object\n",
      " 4   education_num   32561 non-null  int64 \n",
      " 5   marital_status  32561 non-null  object\n",
      " 6   occupation      32561 non-null  object\n",
      " 7   relationship    32561 non-null  object\n",
      " 8   race            32561 non-null  object\n",
      " 9   sex             32561 non-null  object\n",
      " 10  capital_gain    32561 non-null  int64 \n",
      " 11  capital_loss    32561 non-null  int64 \n",
      " 12  hours_per_week  32561 non-null  int64 \n",
      " 13  native_country  32561 non-null  object\n",
      " 14  income          32561 non-null  object\n",
      "dtypes: int64(6), object(9)\n",
      "memory usage: 3.7+ MB\n",
      "None\n",
      "                age        fnlwgt  education_num  capital_gain  capital_loss  \\\n",
      "count  32561.000000  3.256100e+04   32561.000000  32561.000000  32561.000000   \n",
      "mean      38.581647  1.897784e+05      10.080679   1077.648844     87.303830   \n",
      "std       13.640433  1.055500e+05       2.572720   7385.292085    402.960219   \n",
      "min       17.000000  1.228500e+04       1.000000      0.000000      0.000000   \n",
      "25%       28.000000  1.178270e+05       9.000000      0.000000      0.000000   \n",
      "50%       37.000000  1.783560e+05      10.000000      0.000000      0.000000   \n",
      "75%       48.000000  2.370510e+05      12.000000      0.000000      0.000000   \n",
      "max       90.000000  1.484705e+06      16.000000  99999.000000   4356.000000   \n",
      "\n",
      "       hours_per_week  \n",
      "count    32561.000000  \n",
      "mean        40.437456  \n",
      "std         12.347429  \n",
      "min          1.000000  \n",
      "25%         40.000000  \n",
      "50%         40.000000  \n",
      "75%         45.000000  \n",
      "max         99.000000  \n",
      "age               0\n",
      "workclass         0\n",
      "fnlwgt            0\n",
      "education         0\n",
      "education_num     0\n",
      "marital_status    0\n",
      "occupation        0\n",
      "relationship      0\n",
      "race              0\n",
      "sex               0\n",
      "capital_gain      0\n",
      "capital_loss      0\n",
      "hours_per_week    0\n",
      "native_country    0\n",
      "income            0\n",
      "dtype: int64\n"
     ]
    }
   ],
   "source": [
    "print(df.info())\n",
    "print(df.describe())\n",
    "print(df.isnull().sum())"
   ]
  },
  {
   "cell_type": "code",
   "execution_count": 4,
   "id": "325e2645-4abd-41ee-9cc8-97d9d5816ad1",
   "metadata": {},
   "outputs": [],
   "source": [
    "df.drop(columns = 'race',inplace = True)"
   ]
  },
  {
   "cell_type": "code",
   "execution_count": 5,
   "id": "d96d87f0-ca00-4bac-a830-23dd2b0029d3",
   "metadata": {},
   "outputs": [],
   "source": [
    "df['age'] =  df['age'].fillna(df['age'].mean())\n",
    "df['fnlwgt'] = df['fnlwgt'].fillna(df['fnlwgt'].mode()[0])"
   ]
  },
  {
   "cell_type": "code",
   "execution_count": 6,
   "id": "d690163e-09ea-4cad-8baf-bb9f5489b1c5",
   "metadata": {},
   "outputs": [
    {
     "data": {
      "text/plain": [
       "np.int64(0)"
      ]
     },
     "execution_count": 6,
     "metadata": {},
     "output_type": "execute_result"
    }
   ],
   "source": [
    "df.isnull().sum().sum()"
   ]
  },
  {
   "cell_type": "code",
   "execution_count": 7,
   "id": "fcc8976b-a59a-4cff-a40b-513efa492e67",
   "metadata": {},
   "outputs": [
    {
     "name": "stdout",
     "output_type": "stream",
     "text": [
      "<class 'pandas.core.frame.DataFrame'>\n",
      "RangeIndex: 32561 entries, 0 to 32560\n",
      "Data columns (total 14 columns):\n",
      " #   Column          Non-Null Count  Dtype \n",
      "---  ------          --------------  ----- \n",
      " 0   age             32561 non-null  int64 \n",
      " 1   workclass       32561 non-null  object\n",
      " 2   fnlwgt          32561 non-null  int64 \n",
      " 3   education       32561 non-null  object\n",
      " 4   education_num   32561 non-null  int64 \n",
      " 5   marital_status  32561 non-null  object\n",
      " 6   occupation      32561 non-null  object\n",
      " 7   relationship    32561 non-null  object\n",
      " 8   sex             32561 non-null  object\n",
      " 9   capital_gain    32561 non-null  int64 \n",
      " 10  capital_loss    32561 non-null  int64 \n",
      " 11  hours_per_week  32561 non-null  int64 \n",
      " 12  native_country  32561 non-null  object\n",
      " 13  income          32561 non-null  object\n",
      "dtypes: int64(6), object(8)\n",
      "memory usage: 3.5+ MB\n"
     ]
    }
   ],
   "source": [
    "df.info()"
   ]
  },
  {
   "cell_type": "markdown",
   "id": "d980c59b-3e55-4a64-8654-973639ef8487",
   "metadata": {},
   "source": [
    "# Apply scaling techniques to numerical features:\n",
    "### 1.Standard Scaling\n",
    "### 2.Min-Max Scaling\n",
    "### Discuss the scenarios where each scaling technique is preferred and why."
   ]
  },
  {
   "cell_type": "code",
   "execution_count": 8,
   "id": "2ff71729-7362-4629-8cdb-354e0da11b16",
   "metadata": {},
   "outputs": [],
   "source": [
    "df.drop(columns = ['workclass','relationship','capital_loss','education','occupation','native_country','income'],inplace = True)"
   ]
  },
  {
   "cell_type": "code",
   "execution_count": 9,
   "id": "ba6f5ea4-99f5-4ccf-a21f-f10f9729eb61",
   "metadata": {},
   "outputs": [],
   "source": [
    "le = LabelEncoder()\n",
    "df['sex'] = le.fit_transform(df['sex'])\n",
    "df['marital_status'] = le.fit_transform(df['marital_status'])"
   ]
  },
  {
   "cell_type": "code",
   "execution_count": 10,
   "id": "77bdd21c-25c7-4a65-a671-1f95097f5e68",
   "metadata": {},
   "outputs": [
    {
     "name": "stdout",
     "output_type": "stream",
     "text": [
      "<class 'pandas.core.frame.DataFrame'>\n",
      "RangeIndex: 32561 entries, 0 to 32560\n",
      "Data columns (total 7 columns):\n",
      " #   Column          Non-Null Count  Dtype\n",
      "---  ------          --------------  -----\n",
      " 0   age             32561 non-null  int64\n",
      " 1   fnlwgt          32561 non-null  int64\n",
      " 2   education_num   32561 non-null  int64\n",
      " 3   marital_status  32561 non-null  int64\n",
      " 4   sex             32561 non-null  int64\n",
      " 5   capital_gain    32561 non-null  int64\n",
      " 6   hours_per_week  32561 non-null  int64\n",
      "dtypes: int64(7)\n",
      "memory usage: 1.7 MB\n"
     ]
    }
   ],
   "source": [
    "df.info()"
   ]
  },
  {
   "cell_type": "code",
   "execution_count": 11,
   "id": "8a86952e-e602-48ab-9277-b38b079beba4",
   "metadata": {},
   "outputs": [],
   "source": [
    "X = df.drop(columns = ['education_num'])\n",
    "y = df['education_num']"
   ]
  },
  {
   "cell_type": "code",
   "execution_count": 12,
   "id": "0f823c72-6e12-4e95-aaf3-75c929e2d26f",
   "metadata": {},
   "outputs": [
    {
     "data": {
      "text/html": [
       "<div>\n",
       "<style scoped>\n",
       "    .dataframe tbody tr th:only-of-type {\n",
       "        vertical-align: middle;\n",
       "    }\n",
       "\n",
       "    .dataframe tbody tr th {\n",
       "        vertical-align: top;\n",
       "    }\n",
       "\n",
       "    .dataframe thead th {\n",
       "        text-align: right;\n",
       "    }\n",
       "</style>\n",
       "<table border=\"1\" class=\"dataframe\">\n",
       "  <thead>\n",
       "    <tr style=\"text-align: right;\">\n",
       "      <th></th>\n",
       "      <th>age</th>\n",
       "      <th>fnlwgt</th>\n",
       "      <th>marital_status</th>\n",
       "      <th>sex</th>\n",
       "      <th>capital_gain</th>\n",
       "      <th>hours_per_week</th>\n",
       "    </tr>\n",
       "  </thead>\n",
       "  <tbody>\n",
       "    <tr>\n",
       "      <th>0</th>\n",
       "      <td>39</td>\n",
       "      <td>77516</td>\n",
       "      <td>4</td>\n",
       "      <td>1</td>\n",
       "      <td>2174</td>\n",
       "      <td>40</td>\n",
       "    </tr>\n",
       "    <tr>\n",
       "      <th>1</th>\n",
       "      <td>50</td>\n",
       "      <td>83311</td>\n",
       "      <td>2</td>\n",
       "      <td>1</td>\n",
       "      <td>0</td>\n",
       "      <td>13</td>\n",
       "    </tr>\n",
       "    <tr>\n",
       "      <th>2</th>\n",
       "      <td>38</td>\n",
       "      <td>215646</td>\n",
       "      <td>0</td>\n",
       "      <td>1</td>\n",
       "      <td>0</td>\n",
       "      <td>40</td>\n",
       "    </tr>\n",
       "    <tr>\n",
       "      <th>3</th>\n",
       "      <td>53</td>\n",
       "      <td>234721</td>\n",
       "      <td>2</td>\n",
       "      <td>1</td>\n",
       "      <td>0</td>\n",
       "      <td>40</td>\n",
       "    </tr>\n",
       "    <tr>\n",
       "      <th>4</th>\n",
       "      <td>28</td>\n",
       "      <td>338409</td>\n",
       "      <td>2</td>\n",
       "      <td>0</td>\n",
       "      <td>0</td>\n",
       "      <td>40</td>\n",
       "    </tr>\n",
       "  </tbody>\n",
       "</table>\n",
       "</div>"
      ],
      "text/plain": [
       "   age  fnlwgt  marital_status  sex  capital_gain  hours_per_week\n",
       "0   39   77516               4    1          2174              40\n",
       "1   50   83311               2    1             0              13\n",
       "2   38  215646               0    1             0              40\n",
       "3   53  234721               2    1             0              40\n",
       "4   28  338409               2    0             0              40"
      ]
     },
     "execution_count": 12,
     "metadata": {},
     "output_type": "execute_result"
    }
   ],
   "source": [
    "X.head()"
   ]
  },
  {
   "cell_type": "code",
   "execution_count": 13,
   "id": "a90755c9-806f-4ecb-8767-c512449c7c90",
   "metadata": {},
   "outputs": [],
   "source": [
    "X_train,X_test,y_train,y_test = train_test_split(X,y,test_size = 0.3,random_state = 43)"
   ]
  },
  {
   "cell_type": "code",
   "execution_count": 14,
   "id": "86881129-0ebf-45b7-8ec0-ce128e62432d",
   "metadata": {},
   "outputs": [],
   "source": [
    "sc = StandardScaler()\n",
    "X_train = sc.fit_transform(X_train)"
   ]
  },
  {
   "cell_type": "code",
   "execution_count": 15,
   "id": "052a8a5c-6265-463f-bc18-ea756c0aac72",
   "metadata": {},
   "outputs": [
    {
     "data": {
      "text/html": [
       "<div>\n",
       "<style scoped>\n",
       "    .dataframe tbody tr th:only-of-type {\n",
       "        vertical-align: middle;\n",
       "    }\n",
       "\n",
       "    .dataframe tbody tr th {\n",
       "        vertical-align: top;\n",
       "    }\n",
       "\n",
       "    .dataframe thead th {\n",
       "        text-align: right;\n",
       "    }\n",
       "</style>\n",
       "<table border=\"1\" class=\"dataframe\">\n",
       "  <thead>\n",
       "    <tr style=\"text-align: right;\">\n",
       "      <th></th>\n",
       "      <th>age</th>\n",
       "      <th>fnlwgt</th>\n",
       "      <th>marital_status</th>\n",
       "      <th>sex</th>\n",
       "      <th>capital_gain</th>\n",
       "      <th>hours_per_week</th>\n",
       "    </tr>\n",
       "  </thead>\n",
       "  <tbody>\n",
       "    <tr>\n",
       "      <th>0</th>\n",
       "      <td>-1.070176</td>\n",
       "      <td>-1.470915</td>\n",
       "      <td>0.919275</td>\n",
       "      <td>0.706176</td>\n",
       "      <td>-0.146041</td>\n",
       "      <td>-0.436454</td>\n",
       "    </tr>\n",
       "    <tr>\n",
       "      <th>1</th>\n",
       "      <td>-0.119590</td>\n",
       "      <td>-1.451688</td>\n",
       "      <td>1.581291</td>\n",
       "      <td>-1.416077</td>\n",
       "      <td>-0.146041</td>\n",
       "      <td>-0.036484</td>\n",
       "    </tr>\n",
       "    <tr>\n",
       "      <th>2</th>\n",
       "      <td>0.538508</td>\n",
       "      <td>0.000200</td>\n",
       "      <td>-0.404755</td>\n",
       "      <td>0.706176</td>\n",
       "      <td>-0.146041</td>\n",
       "      <td>0.363486</td>\n",
       "    </tr>\n",
       "    <tr>\n",
       "      <th>3</th>\n",
       "      <td>0.830996</td>\n",
       "      <td>1.053487</td>\n",
       "      <td>0.919275</td>\n",
       "      <td>0.706176</td>\n",
       "      <td>-0.146041</td>\n",
       "      <td>-0.036484</td>\n",
       "    </tr>\n",
       "    <tr>\n",
       "      <th>4</th>\n",
       "      <td>0.538508</td>\n",
       "      <td>0.329676</td>\n",
       "      <td>-0.404755</td>\n",
       "      <td>0.706176</td>\n",
       "      <td>-0.146041</td>\n",
       "      <td>-0.036484</td>\n",
       "    </tr>\n",
       "  </tbody>\n",
       "</table>\n",
       "</div>"
      ],
      "text/plain": [
       "        age    fnlwgt  marital_status       sex  capital_gain  hours_per_week\n",
       "0 -1.070176 -1.470915        0.919275  0.706176     -0.146041       -0.436454\n",
       "1 -0.119590 -1.451688        1.581291 -1.416077     -0.146041       -0.036484\n",
       "2  0.538508  0.000200       -0.404755  0.706176     -0.146041        0.363486\n",
       "3  0.830996  1.053487        0.919275  0.706176     -0.146041       -0.036484\n",
       "4  0.538508  0.329676       -0.404755  0.706176     -0.146041       -0.036484"
      ]
     },
     "execution_count": 15,
     "metadata": {},
     "output_type": "execute_result"
    }
   ],
   "source": [
    "scaler_df = pd.DataFrame(X_train,columns = X.columns)\n",
    "scaler_df.head()"
   ]
  },
  {
   "cell_type": "code",
   "execution_count": 16,
   "id": "ebd144cd-cd3c-46b8-8ca8-dcdf2a3608fd",
   "metadata": {},
   "outputs": [],
   "source": [
    "mms = MinMaxScaler()"
   ]
  },
  {
   "cell_type": "code",
   "execution_count": 17,
   "id": "d6809749-06bd-4ec2-b040-b1014ab0ea74",
   "metadata": {},
   "outputs": [],
   "source": [
    "data_scaled_standard = sc.fit_transform(df.select_dtypes(include=['float', 'int']))\n",
    "data_scaled_minmax = mms.fit_transform(df.select_dtypes(include=['float', 'int']))"
   ]
  },
  {
   "cell_type": "code",
   "execution_count": 18,
   "id": "b85396f1-146e-4c0d-a3b9-3527f20b9c3a",
   "metadata": {},
   "outputs": [
    {
     "data": {
      "text/html": [
       "<div>\n",
       "<style scoped>\n",
       "    .dataframe tbody tr th:only-of-type {\n",
       "        vertical-align: middle;\n",
       "    }\n",
       "\n",
       "    .dataframe tbody tr th {\n",
       "        vertical-align: top;\n",
       "    }\n",
       "\n",
       "    .dataframe thead th {\n",
       "        text-align: right;\n",
       "    }\n",
       "</style>\n",
       "<table border=\"1\" class=\"dataframe\">\n",
       "  <thead>\n",
       "    <tr style=\"text-align: right;\">\n",
       "      <th></th>\n",
       "      <th>age</th>\n",
       "      <th>fnlwgt</th>\n",
       "      <th>education_num</th>\n",
       "      <th>marital_status</th>\n",
       "      <th>sex</th>\n",
       "      <th>capital_gain</th>\n",
       "      <th>hours_per_week</th>\n",
       "    </tr>\n",
       "  </thead>\n",
       "  <tbody>\n",
       "    <tr>\n",
       "      <th>count</th>\n",
       "      <td>3.256100e+04</td>\n",
       "      <td>3.256100e+04</td>\n",
       "      <td>3.256100e+04</td>\n",
       "      <td>3.256100e+04</td>\n",
       "      <td>3.256100e+04</td>\n",
       "      <td>3.256100e+04</td>\n",
       "      <td>3.256100e+04</td>\n",
       "    </tr>\n",
       "    <tr>\n",
       "      <th>mean</th>\n",
       "      <td>-2.705915e-17</td>\n",
       "      <td>-1.001625e-16</td>\n",
       "      <td>1.471887e-16</td>\n",
       "      <td>-1.397692e-16</td>\n",
       "      <td>-7.921348e-17</td>\n",
       "      <td>1.309314e-17</td>\n",
       "      <td>-1.549355e-17</td>\n",
       "    </tr>\n",
       "    <tr>\n",
       "      <th>std</th>\n",
       "      <td>1.000015e+00</td>\n",
       "      <td>1.000015e+00</td>\n",
       "      <td>1.000015e+00</td>\n",
       "      <td>1.000015e+00</td>\n",
       "      <td>1.000015e+00</td>\n",
       "      <td>1.000015e+00</td>\n",
       "      <td>1.000015e+00</td>\n",
       "    </tr>\n",
       "    <tr>\n",
       "      <th>min</th>\n",
       "      <td>-1.582206e+00</td>\n",
       "      <td>-1.681631e+00</td>\n",
       "      <td>-3.529656e+00</td>\n",
       "      <td>-1.734058e+00</td>\n",
       "      <td>-1.422331e+00</td>\n",
       "      <td>-1.459205e-01</td>\n",
       "      <td>-3.194030e+00</td>\n",
       "    </tr>\n",
       "    <tr>\n",
       "      <th>25%</th>\n",
       "      <td>-7.757679e-01</td>\n",
       "      <td>-6.816910e-01</td>\n",
       "      <td>-4.200596e-01</td>\n",
       "      <td>-4.062122e-01</td>\n",
       "      <td>-1.422331e+00</td>\n",
       "      <td>-1.459205e-01</td>\n",
       "      <td>-3.542945e-02</td>\n",
       "    </tr>\n",
       "    <tr>\n",
       "      <th>50%</th>\n",
       "      <td>-1.159546e-01</td>\n",
       "      <td>-1.082193e-01</td>\n",
       "      <td>-3.136003e-02</td>\n",
       "      <td>-4.062122e-01</td>\n",
       "      <td>7.030713e-01</td>\n",
       "      <td>-1.459205e-01</td>\n",
       "      <td>-3.542945e-02</td>\n",
       "    </tr>\n",
       "    <tr>\n",
       "      <th>75%</th>\n",
       "      <td>6.904838e-01</td>\n",
       "      <td>4.478765e-01</td>\n",
       "      <td>7.460392e-01</td>\n",
       "      <td>9.216339e-01</td>\n",
       "      <td>7.030713e-01</td>\n",
       "      <td>-1.459205e-01</td>\n",
       "      <td>3.695194e-01</td>\n",
       "    </tr>\n",
       "    <tr>\n",
       "      <th>max</th>\n",
       "      <td>3.769612e+00</td>\n",
       "      <td>1.226856e+01</td>\n",
       "      <td>2.300838e+00</td>\n",
       "      <td>2.249480e+00</td>\n",
       "      <td>7.030713e-01</td>\n",
       "      <td>1.339458e+01</td>\n",
       "      <td>4.742967e+00</td>\n",
       "    </tr>\n",
       "  </tbody>\n",
       "</table>\n",
       "</div>"
      ],
      "text/plain": [
       "                age        fnlwgt  education_num  marital_status  \\\n",
       "count  3.256100e+04  3.256100e+04   3.256100e+04    3.256100e+04   \n",
       "mean  -2.705915e-17 -1.001625e-16   1.471887e-16   -1.397692e-16   \n",
       "std    1.000015e+00  1.000015e+00   1.000015e+00    1.000015e+00   \n",
       "min   -1.582206e+00 -1.681631e+00  -3.529656e+00   -1.734058e+00   \n",
       "25%   -7.757679e-01 -6.816910e-01  -4.200596e-01   -4.062122e-01   \n",
       "50%   -1.159546e-01 -1.082193e-01  -3.136003e-02   -4.062122e-01   \n",
       "75%    6.904838e-01  4.478765e-01   7.460392e-01    9.216339e-01   \n",
       "max    3.769612e+00  1.226856e+01   2.300838e+00    2.249480e+00   \n",
       "\n",
       "                sex  capital_gain  hours_per_week  \n",
       "count  3.256100e+04  3.256100e+04    3.256100e+04  \n",
       "mean  -7.921348e-17  1.309314e-17   -1.549355e-17  \n",
       "std    1.000015e+00  1.000015e+00    1.000015e+00  \n",
       "min   -1.422331e+00 -1.459205e-01   -3.194030e+00  \n",
       "25%   -1.422331e+00 -1.459205e-01   -3.542945e-02  \n",
       "50%    7.030713e-01 -1.459205e-01   -3.542945e-02  \n",
       "75%    7.030713e-01 -1.459205e-01    3.695194e-01  \n",
       "max    7.030713e-01  1.339458e+01    4.742967e+00  "
      ]
     },
     "execution_count": 18,
     "metadata": {},
     "output_type": "execute_result"
    }
   ],
   "source": [
    "data_scaled_standard_df = pd.DataFrame(data_scaled_standard, columns=df.select_dtypes(include=['float', 'int']).columns)\n",
    "data_scaled_standard_df.describe()"
   ]
  },
  {
   "cell_type": "code",
   "execution_count": 19,
   "id": "64f7bb1a-c143-474d-9005-55c5148f65f9",
   "metadata": {},
   "outputs": [
    {
     "data": {
      "text/html": [
       "<div>\n",
       "<style scoped>\n",
       "    .dataframe tbody tr th:only-of-type {\n",
       "        vertical-align: middle;\n",
       "    }\n",
       "\n",
       "    .dataframe tbody tr th {\n",
       "        vertical-align: top;\n",
       "    }\n",
       "\n",
       "    .dataframe thead th {\n",
       "        text-align: right;\n",
       "    }\n",
       "</style>\n",
       "<table border=\"1\" class=\"dataframe\">\n",
       "  <thead>\n",
       "    <tr style=\"text-align: right;\">\n",
       "      <th></th>\n",
       "      <th>age</th>\n",
       "      <th>fnlwgt</th>\n",
       "      <th>education_num</th>\n",
       "      <th>marital_status</th>\n",
       "      <th>sex</th>\n",
       "      <th>capital_gain</th>\n",
       "      <th>hours_per_week</th>\n",
       "    </tr>\n",
       "  </thead>\n",
       "  <tbody>\n",
       "    <tr>\n",
       "      <th>count</th>\n",
       "      <td>32561.000000</td>\n",
       "      <td>32561.000000</td>\n",
       "      <td>32561.000000</td>\n",
       "      <td>32561.000000</td>\n",
       "      <td>32561.000000</td>\n",
       "      <td>32561.000000</td>\n",
       "      <td>32561.000000</td>\n",
       "    </tr>\n",
       "    <tr>\n",
       "      <th>mean</th>\n",
       "      <td>0.295639</td>\n",
       "      <td>0.120545</td>\n",
       "      <td>0.605379</td>\n",
       "      <td>0.435306</td>\n",
       "      <td>0.669205</td>\n",
       "      <td>0.010777</td>\n",
       "      <td>0.402423</td>\n",
       "    </tr>\n",
       "    <tr>\n",
       "      <th>std</th>\n",
       "      <td>0.186855</td>\n",
       "      <td>0.071685</td>\n",
       "      <td>0.171515</td>\n",
       "      <td>0.251037</td>\n",
       "      <td>0.470506</td>\n",
       "      <td>0.073854</td>\n",
       "      <td>0.125994</td>\n",
       "    </tr>\n",
       "    <tr>\n",
       "      <th>min</th>\n",
       "      <td>0.000000</td>\n",
       "      <td>0.000000</td>\n",
       "      <td>0.000000</td>\n",
       "      <td>0.000000</td>\n",
       "      <td>0.000000</td>\n",
       "      <td>0.000000</td>\n",
       "      <td>0.000000</td>\n",
       "    </tr>\n",
       "    <tr>\n",
       "      <th>25%</th>\n",
       "      <td>0.150685</td>\n",
       "      <td>0.071679</td>\n",
       "      <td>0.533333</td>\n",
       "      <td>0.333333</td>\n",
       "      <td>0.000000</td>\n",
       "      <td>0.000000</td>\n",
       "      <td>0.397959</td>\n",
       "    </tr>\n",
       "    <tr>\n",
       "      <th>50%</th>\n",
       "      <td>0.273973</td>\n",
       "      <td>0.112788</td>\n",
       "      <td>0.600000</td>\n",
       "      <td>0.333333</td>\n",
       "      <td>1.000000</td>\n",
       "      <td>0.000000</td>\n",
       "      <td>0.397959</td>\n",
       "    </tr>\n",
       "    <tr>\n",
       "      <th>75%</th>\n",
       "      <td>0.424658</td>\n",
       "      <td>0.152651</td>\n",
       "      <td>0.733333</td>\n",
       "      <td>0.666667</td>\n",
       "      <td>1.000000</td>\n",
       "      <td>0.000000</td>\n",
       "      <td>0.448980</td>\n",
       "    </tr>\n",
       "    <tr>\n",
       "      <th>max</th>\n",
       "      <td>1.000000</td>\n",
       "      <td>1.000000</td>\n",
       "      <td>1.000000</td>\n",
       "      <td>1.000000</td>\n",
       "      <td>1.000000</td>\n",
       "      <td>1.000000</td>\n",
       "      <td>1.000000</td>\n",
       "    </tr>\n",
       "  </tbody>\n",
       "</table>\n",
       "</div>"
      ],
      "text/plain": [
       "                age        fnlwgt  education_num  marital_status  \\\n",
       "count  32561.000000  32561.000000   32561.000000    32561.000000   \n",
       "mean       0.295639      0.120545       0.605379        0.435306   \n",
       "std        0.186855      0.071685       0.171515        0.251037   \n",
       "min        0.000000      0.000000       0.000000        0.000000   \n",
       "25%        0.150685      0.071679       0.533333        0.333333   \n",
       "50%        0.273973      0.112788       0.600000        0.333333   \n",
       "75%        0.424658      0.152651       0.733333        0.666667   \n",
       "max        1.000000      1.000000       1.000000        1.000000   \n",
       "\n",
       "                sex  capital_gain  hours_per_week  \n",
       "count  32561.000000  32561.000000    32561.000000  \n",
       "mean       0.669205      0.010777        0.402423  \n",
       "std        0.470506      0.073854        0.125994  \n",
       "min        0.000000      0.000000        0.000000  \n",
       "25%        0.000000      0.000000        0.397959  \n",
       "50%        1.000000      0.000000        0.397959  \n",
       "75%        1.000000      0.000000        0.448980  \n",
       "max        1.000000      1.000000        1.000000  "
      ]
     },
     "execution_count": 19,
     "metadata": {},
     "output_type": "execute_result"
    }
   ],
   "source": [
    "data_scaled_minmax_df = pd.DataFrame(data_scaled_minmax, columns=df.select_dtypes(include=['float', 'int']).columns)\n",
    "data_scaled_minmax_df.describe()"
   ]
  },
  {
   "cell_type": "markdown",
   "id": "9abb148d-da68-4ca5-83bd-da5683c4af24",
   "metadata": {},
   "source": [
    "# 2.Encoding Techniques:\n",
    "### Apply One-Hot Encoding to categorical variables with less than 5 categories.\n",
    "### Use Label Encoding for categorical variables with more than 5 categories.\n",
    "### Discuss the pros and cons of One-Hot Encoding and Label Encoding."
   ]
  },
  {
   "cell_type": "code",
   "execution_count": 20,
   "id": "ac9fbb0c-d04b-44e8-b65f-ba6ff0feb6bc",
   "metadata": {},
   "outputs": [
    {
     "name": "stdout",
     "output_type": "stream",
     "text": [
      "\n",
      "Label Encoded DataFrame:\n",
      "       age  fnlwgt  education_num  marital_status  sex  capital_gain  \\\n",
      "0       39   77516             13               4    1          2174   \n",
      "1       50   83311             13               2    1             0   \n",
      "2       38  215646              9               0    1             0   \n",
      "3       53  234721              7               2    1             0   \n",
      "4       28  338409             13               2    0             0   \n",
      "...    ...     ...            ...             ...  ...           ...   \n",
      "32556   27  257302             12               2    0             0   \n",
      "32557   40  154374              9               2    1             0   \n",
      "32558   58  151910              9               6    0             0   \n",
      "32559   22  201490              9               4    1             0   \n",
      "32560   52  287927              9               2    0         15024   \n",
      "\n",
      "       hours_per_week  Label_Encoded  \n",
      "0                  40             12  \n",
      "1                  13             12  \n",
      "2                  40              8  \n",
      "3                  40              6  \n",
      "4                  40             12  \n",
      "...               ...            ...  \n",
      "32556              38             11  \n",
      "32557              40              8  \n",
      "32558              40              8  \n",
      "32559              20              8  \n",
      "32560              40              8  \n",
      "\n",
      "[32561 rows x 8 columns]\n"
     ]
    }
   ],
   "source": [
    "df['Label_Encoded'] = le.fit_transform(df['education_num'])\n",
    "print(\"\\nLabel Encoded DataFrame:\")\n",
    "print(df)"
   ]
  },
  {
   "cell_type": "code",
   "execution_count": 21,
   "id": "07a1cc8e-b801-41a5-bbbb-a91fc249e63e",
   "metadata": {},
   "outputs": [
    {
     "name": "stdout",
     "output_type": "stream",
     "text": [
      "\n",
      "One-Hot Encoded DataFrame:\n",
      "       age  fnlwgt  education_num  marital_status  sex  capital_gain  \\\n",
      "0       39   77516             13               4    1          2174   \n",
      "1       50   83311             13               2    1             0   \n",
      "2       38  215646              9               0    1             0   \n",
      "3       53  234721              7               2    1             0   \n",
      "4       28  338409             13               2    0             0   \n",
      "...    ...     ...            ...             ...  ...           ...   \n",
      "32556   27  257302             12               2    0             0   \n",
      "32557   40  154374              9               2    1             0   \n",
      "32558   58  151910              9               6    0             0   \n",
      "32559   22  201490              9               4    1             0   \n",
      "32560   52  287927              9               2    0         15024   \n",
      "\n",
      "       hours_per_week  Label_Encoded  hours_per_week_1  hours_per_week_2  ...  \\\n",
      "0                  40             12               0.0               0.0  ...   \n",
      "1                  13             12               0.0               0.0  ...   \n",
      "2                  40              8               0.0               0.0  ...   \n",
      "3                  40              6               0.0               0.0  ...   \n",
      "4                  40             12               0.0               0.0  ...   \n",
      "...               ...            ...               ...               ...  ...   \n",
      "32556              38             11               0.0               0.0  ...   \n",
      "32557              40              8               0.0               0.0  ...   \n",
      "32558              40              8               0.0               0.0  ...   \n",
      "32559              20              8               0.0               0.0  ...   \n",
      "32560              40              8               0.0               0.0  ...   \n",
      "\n",
      "       hours_per_week_89  hours_per_week_90  hours_per_week_91  \\\n",
      "0                    0.0                0.0                0.0   \n",
      "1                    0.0                0.0                0.0   \n",
      "2                    0.0                0.0                0.0   \n",
      "3                    0.0                0.0                0.0   \n",
      "4                    0.0                0.0                0.0   \n",
      "...                  ...                ...                ...   \n",
      "32556                0.0                0.0                0.0   \n",
      "32557                0.0                0.0                0.0   \n",
      "32558                0.0                0.0                0.0   \n",
      "32559                0.0                0.0                0.0   \n",
      "32560                0.0                0.0                0.0   \n",
      "\n",
      "       hours_per_week_92  hours_per_week_94  hours_per_week_95  \\\n",
      "0                    0.0                0.0                0.0   \n",
      "1                    0.0                0.0                0.0   \n",
      "2                    0.0                0.0                0.0   \n",
      "3                    0.0                0.0                0.0   \n",
      "4                    0.0                0.0                0.0   \n",
      "...                  ...                ...                ...   \n",
      "32556                0.0                0.0                0.0   \n",
      "32557                0.0                0.0                0.0   \n",
      "32558                0.0                0.0                0.0   \n",
      "32559                0.0                0.0                0.0   \n",
      "32560                0.0                0.0                0.0   \n",
      "\n",
      "       hours_per_week_96  hours_per_week_97  hours_per_week_98  \\\n",
      "0                    0.0                0.0                0.0   \n",
      "1                    0.0                0.0                0.0   \n",
      "2                    0.0                0.0                0.0   \n",
      "3                    0.0                0.0                0.0   \n",
      "4                    0.0                0.0                0.0   \n",
      "...                  ...                ...                ...   \n",
      "32556                0.0                0.0                0.0   \n",
      "32557                0.0                0.0                0.0   \n",
      "32558                0.0                0.0                0.0   \n",
      "32559                0.0                0.0                0.0   \n",
      "32560                0.0                0.0                0.0   \n",
      "\n",
      "       hours_per_week_99  \n",
      "0                    0.0  \n",
      "1                    0.0  \n",
      "2                    0.0  \n",
      "3                    0.0  \n",
      "4                    0.0  \n",
      "...                  ...  \n",
      "32556                0.0  \n",
      "32557                0.0  \n",
      "32558                0.0  \n",
      "32559                0.0  \n",
      "32560                0.0  \n",
      "\n",
      "[32561 rows x 102 columns]\n"
     ]
    }
   ],
   "source": [
    "one_hot_encoder = OneHotEncoder(sparse_output=False) # Replace 'sparse' with 'sparse_output'\n",
    "one_hot_encoded = one_hot_encoder.fit_transform(df[['hours_per_week']])\n",
    "df_one_hot = pd.DataFrame(one_hot_encoded, columns=one_hot_encoder.get_feature_names_out(['hours_per_week']))\n",
    "df = pd.concat([df, df_one_hot], axis=1)\n",
    "print(\"\\nOne-Hot Encoded DataFrame:\")\n",
    "print(df)"
   ]
  },
  {
   "cell_type": "code",
   "execution_count": 22,
   "id": "21d367be-41d6-4bd3-9321-ff619fd85a03",
   "metadata": {},
   "outputs": [
    {
     "name": "stdout",
     "output_type": "stream",
     "text": [
      "\n",
      "Comparison of Encoding Techniques:\n",
      "\n",
      "One-Hot Encoding:\n",
      "Pros:\n",
      "- Avoids introducing ordinal relationships\n",
      "- Suitable for categorical features with few unique values\n",
      "Cons:\n",
      "- Increases dimensionality\n",
      "- Can lead to sparsity in the dataset\n",
      "\n",
      "Label Encoding:\n",
      "Pros:\n",
      "- Efficient and doesn't increase dimensionality\n",
      "- Suitable for categorical features with many unique values\n",
      "Cons:\n",
      "- Introduces unintended ordinal relationships\n",
      "- May not be suitable for all machine learning models\n"
     ]
    }
   ],
   "source": [
    "pros_cons = {\n",
    "    \"One-Hot Encoding\": {\n",
    "        \"Pros\": [\n",
    "            \"Avoids introducing ordinal relationships\", \n",
    "            \"Suitable for categorical features with few unique values\"\n",
    "        ],\n",
    "        \"Cons\": [\n",
    "            \"Increases dimensionality\",\n",
    "            \"Can lead to sparsity in the dataset\"\n",
    "        ]\n",
    "    },\n",
    "    \"Label Encoding\": {\n",
    "        \"Pros\": [\n",
    "            \"Efficient and doesn't increase dimensionality\",\n",
    "            \"Suitable for categorical features with many unique values\"\n",
    "        ],\n",
    "        \"Cons\": [\n",
    "            \"Introduces unintended ordinal relationships\",\n",
    "            \"May not be suitable for all machine learning models\"\n",
    "        ]\n",
    "    }\n",
    "}\n",
    "\n",
    "print(\"\\nComparison of Encoding Techniques:\")\n",
    "for method, details in pros_cons.items():\n",
    "    print(f\"\\n{method}:\")\n",
    "    print(\"Pros:\")\n",
    "    for pro in details[\"Pros\"]:\n",
    "        print(f\"- {pro}\")\n",
    "    print(\"Cons:\")\n",
    "    for con in details[\"Cons\"]:\n",
    "        print(f\"- {con}\")"
   ]
  },
  {
   "cell_type": "code",
   "execution_count": 23,
   "id": "fa815f7e-4045-49b4-9fe1-2e82e5a4a7cb",
   "metadata": {},
   "outputs": [
    {
     "name": "stdout",
     "output_type": "stream",
     "text": [
      "   age  fnlwgt  education_num  marital_status  sex  capital_gain  \\\n",
      "0   39   77516             13               4    1          2174   \n",
      "1   50   83311             13               2    1             0   \n",
      "2   38  215646              9               0    1             0   \n",
      "3   53  234721              7               2    1             0   \n",
      "4   28  338409             13               2    0             0   \n",
      "\n",
      "   hours_per_week  Label_Encoded  hours_per_week_1  hours_per_week_2  ...  \\\n",
      "0              40             12               0.0               0.0  ...   \n",
      "1              13             12               0.0               0.0  ...   \n",
      "2              40              8               0.0               0.0  ...   \n",
      "3              40              6               0.0               0.0  ...   \n",
      "4              40             12               0.0               0.0  ...   \n",
      "\n",
      "   hours_per_week_89  hours_per_week_90  hours_per_week_91  hours_per_week_92  \\\n",
      "0                0.0                0.0                0.0                0.0   \n",
      "1                0.0                0.0                0.0                0.0   \n",
      "2                0.0                0.0                0.0                0.0   \n",
      "3                0.0                0.0                0.0                0.0   \n",
      "4                0.0                0.0                0.0                0.0   \n",
      "\n",
      "   hours_per_week_94  hours_per_week_95  hours_per_week_96  hours_per_week_97  \\\n",
      "0                0.0                0.0                0.0                0.0   \n",
      "1                0.0                0.0                0.0                0.0   \n",
      "2                0.0                0.0                0.0                0.0   \n",
      "3                0.0                0.0                0.0                0.0   \n",
      "4                0.0                0.0                0.0                0.0   \n",
      "\n",
      "   hours_per_week_98  hours_per_week_99  \n",
      "0                0.0                0.0  \n",
      "1                0.0                0.0  \n",
      "2                0.0                0.0  \n",
      "3                0.0                0.0  \n",
      "4                0.0                0.0  \n",
      "\n",
      "[5 rows x 102 columns]\n"
     ]
    }
   ],
   "source": [
    "ohe_columns = [col for col in df.select_dtypes(include=['object']).columns if df[col].nunique() < 5]\n",
    "df = pd.get_dummies(df, columns=ohe_columns)\n",
    "print(df.head())"
   ]
  },
  {
   "cell_type": "markdown",
   "id": "01df0893-412e-4277-b4eb-d119d5a44da0",
   "metadata": {},
   "source": [
    "# 3.Feature Engineering:\n",
    "### Create at least 2 new features that could be beneficial for the model. Explain the rationale behind your choices.\n",
    "### Apply a transformation (e.g., log transformation) to at least one skewed numerical feature and justify your choice."
   ]
  },
  {
   "cell_type": "code",
   "execution_count": 24,
   "id": "c232e989-f9f2-4297-99e7-bd7f9aa4cca9",
   "metadata": {},
   "outputs": [],
   "source": [
    "le_columns = [col for col in df.select_dtypes(include=['object']).columns if df[col].nunique() >= 5]\n",
    "for col in le_columns:\n",
    "    df[col] = le.fit_transform(df[col])"
   ]
  },
  {
   "cell_type": "code",
   "execution_count": 25,
   "id": "3aa5cc93-14e6-4d7c-bed6-dd5539f028e0",
   "metadata": {},
   "outputs": [],
   "source": [
    "df['capital_gain'] = df['hours_per_week'] / (df['education_num'] + 1e-5)\n",
    "df['capital_loss'] = df['capital_gain'] / (df['age'] + 1e-5)"
   ]
  },
  {
   "cell_type": "code",
   "execution_count": 26,
   "id": "8e5e5015-d4f7-41b2-837e-16a43afffd56",
   "metadata": {},
   "outputs": [],
   "source": [
    "df['capital_gain'] = np.log1p(df['capital_gain']) "
   ]
  },
  {
   "cell_type": "code",
   "execution_count": 27,
   "id": "45a1b1b1-e933-45b2-b25d-307edcb964d4",
   "metadata": {},
   "outputs": [],
   "source": [
    "iso_forest = IsolationForest(contamination=0.01, random_state=42)\n",
    "outliers = iso_forest.fit_predict(df.select_dtypes(include=['float', 'int']))\n",
    "df2 = df[outliers == 1]"
   ]
  },
  {
   "cell_type": "markdown",
   "id": "ab352c11-1c29-4a6d-9113-4697daead76c",
   "metadata": {},
   "source": [
    "# 4.Feature Selection:\n",
    "### Use the Isolation Forest algorithm to identify and remove outliers. Discuss how outliers can affect model performance.\n",
    "### Apply the PPS (Predictive Power Score) to find and discuss the relationships between features. Compare its findings with the correlation matrix."
   ]
  },
  {
   "cell_type": "code",
   "execution_count": 28,
   "id": "fb6eff2f-6787-4a69-8607-bc9f24e5e79f",
   "metadata": {},
   "outputs": [],
   "source": [
    "import warnings \n",
    "\n",
    "warnings.filterwarnings(\"ignore\")"
   ]
  },
  {
   "cell_type": "code",
   "execution_count": 30,
   "id": "677f282b-f7e3-4a2b-a882-92d980561a42",
   "metadata": {},
   "outputs": [],
   "source": [
    "import ppscore as pps"
   ]
  },
  {
   "cell_type": "code",
   "execution_count": 32,
   "id": "4faa9285-5dcc-4c54-b66a-569700b2bfe9",
   "metadata": {},
   "outputs": [
    {
     "name": "stdout",
     "output_type": "stream",
     "text": [
      "CPU times: total: 7min 26s\n",
      "Wall time: 8min 5s\n"
     ]
    }
   ],
   "source": [
    "%%time\n",
    "mat = pps.matrix(df)"
   ]
  },
  {
   "cell_type": "code",
   "execution_count": 34,
   "id": "468cfc83-1510-4e5c-b1f2-1f45edbf3ccc",
   "metadata": {},
   "outputs": [
    {
     "data": {
      "text/plain": [
       "Index(['age', 'fnlwgt', 'education_num', 'marital_status', 'sex',\n",
       "       'capital_gain', 'hours_per_week', 'Label_Encoded', 'hours_per_week_1',\n",
       "       'hours_per_week_2',\n",
       "       ...\n",
       "       'hours_per_week_90', 'hours_per_week_91', 'hours_per_week_92',\n",
       "       'hours_per_week_94', 'hours_per_week_95', 'hours_per_week_96',\n",
       "       'hours_per_week_97', 'hours_per_week_98', 'hours_per_week_99',\n",
       "       'capital_loss'],\n",
       "      dtype='object', length=103)"
      ]
     },
     "execution_count": 34,
     "metadata": {},
     "output_type": "execute_result"
    }
   ],
   "source": [
    "df.columns"
   ]
  },
  {
   "cell_type": "code",
   "execution_count": 36,
   "id": "8867f06c-9f7c-42f0-946d-7f51d15bda77",
   "metadata": {},
   "outputs": [
    {
     "name": "stdout",
     "output_type": "stream",
     "text": [
      "CPU times: total: 3.5 s\n",
      "Wall time: 3.73 s\n"
     ]
    }
   ],
   "source": [
    "%%time\n",
    "mat = pps.matrix(df[['age','fnlwgt', 'education_num', 'marital_status', 'sex',\n",
    "       'capital_gain', 'hours_per_week']])"
   ]
  },
  {
   "cell_type": "code",
   "execution_count": 38,
   "id": "46fdeece-19ce-447e-82e6-049d1739a0c3",
   "metadata": {},
   "outputs": [
    {
     "name": "stdout",
     "output_type": "stream",
     "text": [
      "     x               y   ppscore            case  is_valid_score  \\\n",
      "0  age             age  1.000000  predict_itself            True   \n",
      "1  age          fnlwgt  0.000000      regression            True   \n",
      "2  age   education_num  0.000000      regression            True   \n",
      "3  age  marital_status  0.169528      regression            True   \n",
      "4  age             sex  0.000000      regression            True   \n",
      "\n",
      "                metric  baseline_score   model_score                    model  \n",
      "0                 None          0.0000      1.000000                     None  \n",
      "1  mean absolute error      75872.1862  77535.141544  DecisionTreeRegressor()  \n",
      "2  mean absolute error          1.8530      1.898306  DecisionTreeRegressor()  \n",
      "3  mean absolute error          1.1740      0.974974  DecisionTreeRegressor()  \n",
      "4  mean absolute error          0.3360      0.441158  DecisionTreeRegressor()  \n",
      "                 x               y   ppscore            case  is_valid_score  \\\n",
      "0              age             age  1.000000  predict_itself            True   \n",
      "1              age          fnlwgt  0.000000      regression            True   \n",
      "2              age   education_num  0.000000      regression            True   \n",
      "3              age  marital_status  0.169528      regression            True   \n",
      "4              age             sex  0.000000      regression            True   \n",
      "5              age    capital_gain  0.000000      regression            True   \n",
      "6              age  hours_per_week  0.000000      regression            True   \n",
      "7           fnlwgt             age  0.000000      regression            True   \n",
      "8           fnlwgt          fnlwgt  1.000000  predict_itself            True   \n",
      "9           fnlwgt   education_num  0.000000      regression            True   \n",
      "10          fnlwgt  marital_status  0.000000      regression            True   \n",
      "11          fnlwgt             sex  0.000000      regression            True   \n",
      "12          fnlwgt    capital_gain  0.000000      regression            True   \n",
      "13          fnlwgt  hours_per_week  0.000000      regression            True   \n",
      "14   education_num             age  0.016926      regression            True   \n",
      "15   education_num          fnlwgt  0.000000      regression            True   \n",
      "16   education_num   education_num  1.000000  predict_itself            True   \n",
      "17   education_num  marital_status  0.000000      regression            True   \n",
      "18   education_num             sex  0.000000      regression            True   \n",
      "19   education_num    capital_gain  0.261366      regression            True   \n",
      "20   education_num  hours_per_week  0.000000      regression            True   \n",
      "21  marital_status             age  0.201582      regression            True   \n",
      "22  marital_status          fnlwgt  0.000000      regression            True   \n",
      "23  marital_status   education_num  0.000000      regression            True   \n",
      "24  marital_status  marital_status  1.000000  predict_itself            True   \n",
      "25  marital_status             sex  0.000000      regression            True   \n",
      "26  marital_status    capital_gain  0.000126      regression            True   \n",
      "27  marital_status  hours_per_week  0.000000      regression            True   \n",
      "28             sex             age  0.000000      regression            True   \n",
      "29             sex          fnlwgt  0.000000      regression            True   \n",
      "30             sex   education_num  0.000000      regression            True   \n",
      "31             sex  marital_status  0.000000      regression            True   \n",
      "32             sex             sex  1.000000  predict_itself            True   \n",
      "33             sex    capital_gain  0.006644      regression            True   \n",
      "34             sex  hours_per_week  0.000000      regression            True   \n",
      "35    capital_gain             age  0.005470      regression            True   \n",
      "36    capital_gain          fnlwgt  0.000000      regression            True   \n",
      "37    capital_gain   education_num  0.915394      regression            True   \n",
      "38    capital_gain  marital_status  0.000000      regression            True   \n",
      "39    capital_gain             sex  0.000000      regression            True   \n",
      "40    capital_gain    capital_gain  1.000000  predict_itself            True   \n",
      "41    capital_gain  hours_per_week  0.898739      regression            True   \n",
      "42  hours_per_week             age  0.002377      regression            True   \n",
      "43  hours_per_week          fnlwgt  0.000000      regression            True   \n",
      "44  hours_per_week   education_num  0.000000      regression            True   \n",
      "45  hours_per_week  marital_status  0.000000      regression            True   \n",
      "46  hours_per_week             sex  0.000000      regression            True   \n",
      "47  hours_per_week    capital_gain  0.321914      regression            True   \n",
      "48  hours_per_week  hours_per_week  1.000000  predict_itself            True   \n",
      "\n",
      "                 metric  baseline_score   model_score                    model  \n",
      "0                  None        0.000000      1.000000                     None  \n",
      "1   mean absolute error    75872.186200  77535.141544  DecisionTreeRegressor()  \n",
      "2   mean absolute error        1.853000      1.898306  DecisionTreeRegressor()  \n",
      "3   mean absolute error        1.174000      0.974974  DecisionTreeRegressor()  \n",
      "4   mean absolute error        0.336000      0.441158  DecisionTreeRegressor()  \n",
      "5   mean absolute error        0.242852      0.244516  DecisionTreeRegressor()  \n",
      "6   mean absolute error        7.656400      8.129102  DecisionTreeRegressor()  \n",
      "7   mean absolute error       11.205800     14.159450  DecisionTreeRegressor()  \n",
      "8                  None        0.000000      1.000000                     None  \n",
      "9   mean absolute error        1.853000      2.658967  DecisionTreeRegressor()  \n",
      "10  mean absolute error        1.174000      1.556367  DecisionTreeRegressor()  \n",
      "11  mean absolute error        0.336000      0.391900  DecisionTreeRegressor()  \n",
      "12  mean absolute error        0.242852      0.360961  DecisionTreeRegressor()  \n",
      "13  mean absolute error        7.656400     12.376833  DecisionTreeRegressor()  \n",
      "14  mean absolute error       11.205800     11.016126  DecisionTreeRegressor()  \n",
      "15  mean absolute error    75872.186200  76856.752737  DecisionTreeRegressor()  \n",
      "16                 None        0.000000      1.000000                     None  \n",
      "17  mean absolute error        1.174000      1.264377  DecisionTreeRegressor()  \n",
      "18  mean absolute error        0.336000      0.441771  DecisionTreeRegressor()  \n",
      "19  mean absolute error        0.242852      0.179379  DecisionTreeRegressor()  \n",
      "20  mean absolute error        7.656400      7.993596  DecisionTreeRegressor()  \n",
      "21  mean absolute error       11.205800      8.946913  DecisionTreeRegressor()  \n",
      "22  mean absolute error    75872.186200  76611.312327  DecisionTreeRegressor()  \n",
      "23  mean absolute error        1.853000      1.883256  DecisionTreeRegressor()  \n",
      "24                 None        0.000000      1.000000                     None  \n",
      "25  mean absolute error        0.336000      0.353106  DecisionTreeRegressor()  \n",
      "26  mean absolute error        0.242852      0.242821  DecisionTreeRegressor()  \n",
      "27  mean absolute error        7.656400      8.425624  DecisionTreeRegressor()  \n",
      "28  mean absolute error       11.205800     11.260031  DecisionTreeRegressor()  \n",
      "29  mean absolute error    75872.186200  76667.158971  DecisionTreeRegressor()  \n",
      "30  mean absolute error        1.853000      1.871582  DecisionTreeRegressor()  \n",
      "31  mean absolute error        1.174000      1.246133  DecisionTreeRegressor()  \n",
      "32                 None        0.000000      1.000000                     None  \n",
      "33  mean absolute error        0.242852      0.241238  DecisionTreeRegressor()  \n",
      "34  mean absolute error        7.656400      8.396180  DecisionTreeRegressor()  \n",
      "35  mean absolute error       11.205800     11.144499  DecisionTreeRegressor()  \n",
      "36  mean absolute error    75872.186200  81631.723558  DecisionTreeRegressor()  \n",
      "37  mean absolute error        1.853000      0.156775  DecisionTreeRegressor()  \n",
      "38  mean absolute error        1.174000      1.224979  DecisionTreeRegressor()  \n",
      "39  mean absolute error        0.336000      0.404548  DecisionTreeRegressor()  \n",
      "40                 None        0.000000      1.000000                     None  \n",
      "41  mean absolute error        7.656400      0.775298  DecisionTreeRegressor()  \n",
      "42  mean absolute error       11.205800     11.179166  DecisionTreeRegressor()  \n",
      "43  mean absolute error    75872.186200  77107.746325  DecisionTreeRegressor()  \n",
      "44  mean absolute error        1.853000      1.898740  DecisionTreeRegressor()  \n",
      "45  mean absolute error        1.174000      1.202740  DecisionTreeRegressor()  \n",
      "46  mean absolute error        0.336000      0.410346  DecisionTreeRegressor()  \n",
      "47  mean absolute error        0.242852      0.164675  DecisionTreeRegressor()  \n",
      "48                 None        0.000000      1.000000                     None  \n"
     ]
    }
   ],
   "source": [
    "print(mat.head())  \n",
    "print(mat)      "
   ]
  },
  {
   "cell_type": "code",
   "execution_count": 40,
   "id": "72bc2c07-12fd-428d-8e60-5ec5393af6d1",
   "metadata": {},
   "outputs": [],
   "source": [
    "mat = mat.apply(pd.to_numeric, errors='coerce')  "
   ]
  },
  {
   "cell_type": "code",
   "execution_count": 42,
   "id": "215913d9-6aaa-4cda-8049-49266a3e52bb",
   "metadata": {},
   "outputs": [],
   "source": [
    "mat = mat.select_dtypes(include=[np.number])  "
   ]
  },
  {
   "cell_type": "code",
   "execution_count": 43,
   "id": "5509d74f-9c6e-4f8e-b16c-ebf951607127",
   "metadata": {},
   "outputs": [
    {
     "name": "stdout",
     "output_type": "stream",
     "text": [
      "(49, 8)\n"
     ]
    }
   ],
   "source": [
    "print(mat.shape)"
   ]
  },
  {
   "cell_type": "code",
   "execution_count": 44,
   "id": "ad3887e9-db44-40da-9b01-ccb1e65fff96",
   "metadata": {},
   "outputs": [
    {
     "data": {
      "text/plain": [
       "<Axes: >"
      ]
     },
     "execution_count": 44,
     "metadata": {},
     "output_type": "execute_result"
    },
    {
     "data": {
      "image/png": "[encoded data removed]",
      "text/plain": [
       "<Figure size 640x480 with 2 Axes>"
      ]
     },
     "metadata": {},
     "output_type": "display_data"
    }
   ],
   "source": [
    "sns.heatmap(mat, vmin=0, vmax=1, cmap=\"Blues\", linewidths=0.5, annot=True)"
   ]
  },
  {
   "cell_type": "code",
   "execution_count": 47,
   "id": "a46571b7-7275-4c84-879f-790a63f030c1",
   "metadata": {},
   "outputs": [
    {
     "data": {
      "text/plain": [
       "{'x': 'capital_gain',\n",
       " 'y': 'education_num',\n",
       " 'ppscore': np.float64(0.9153940865232406),\n",
       " 'case': 'regression',\n",
       " 'is_valid_score': True,\n",
       " 'metric': 'mean absolute error',\n",
       " 'baseline_score': 1.853,\n",
       " 'model_score': np.float64(0.1567747576724351),\n",
       " 'model': DecisionTreeRegressor()}"
      ]
     },
     "execution_count": 47,
     "metadata": {},
     "output_type": "execute_result"
    }
   ],
   "source": [
    "pps.score(df,'capital_gain','education_num')"
   ]
  },
  {
   "cell_type": "code",
   "execution_count": 48,
   "id": "1aa4e845-1d58-4397-a1b9-7a92ba423c14",
   "metadata": {},
   "outputs": [
    {
     "name": "stdout",
     "output_type": "stream",
     "text": [
      "CPU times: total: 2.34 s\n",
      "Wall time: 2.4 s\n"
     ]
    }
   ],
   "source": [
    "%%time\n",
    "corr = df.corr()"
   ]
  },
  {
   "cell_type": "code",
   "execution_count": 49,
   "id": "92e50c68-18e8-4ac5-8d79-02d8b843316c",
   "metadata": {},
   "outputs": [
    {
     "data": {
      "text/plain": [
       "<Axes: >"
      ]
     },
     "execution_count": 49,
     "metadata": {},
     "output_type": "execute_result"
    },
    {
     "data": {
      "image/png": "[encoded data removed]",
      "text/plain": [
       "<Figure size 640x480 with 2 Axes>"
      ]
     },
     "metadata": {},
     "output_type": "display_data"
    }
   ],
   "source": [
    "sns.heatmap(corr, vmin=0, vmax=1, cmap=\"Blues\", linewidths=0.5,annot=False)"
   ]
  },
  {
   "cell_type": "code",
   "execution_count": null,
   "id": "4747b5e3-5102-4cef-963c-4313e11e9c27",
   "metadata": {},
   "outputs": [],
   "source": []
  }
 ],
 "metadata": {
  "kernelspec": {
   "display_name": "Python(myenv)",
   "language": "python",
   "name": "myenv"
  },
  "language_info": {
   "codemirror_mode": {
    "name": "ipython",
    "version": 3
   },
   "file_extension": ".py",
   "mimetype": "text/x-python",
   "name": "python",
   "nbconvert_exporter": "python",
   "pygments_lexer": "ipython3",
   "version": "3.9.21"
  }
 },
 "nbformat": 4,
 "nbformat_minor": 5
}
