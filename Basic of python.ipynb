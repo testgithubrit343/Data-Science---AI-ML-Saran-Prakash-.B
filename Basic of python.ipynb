{
 "cells": [
  {
   "cell_type": "markdown",
   "id": "25aec12a-186f-4cc1-93d5-9a6ccea4f37f",
   "metadata": {},
   "source": [
    "# 1.Prime Number"
   ]
  },
  {
   "cell_type": "code",
   "execution_count": 9,
   "id": "e5d0595c-4853-4b84-b772-e9c62f21539f",
   "metadata": {},
   "outputs": [
    {
     "name": "stdin",
     "output_type": "stream",
     "text": [
      "Enter the number: 29\n"
     ]
    },
    {
     "name": "stdout",
     "output_type": "stream",
     "text": [
      "29 is Prime Number\n"
     ]
    }
   ],
   "source": [
    "num = int(input(\"Enter the number:\"))\n",
    "count = 0\n",
    "for i in range(1,num+1):\n",
    "    if num%i==0:\n",
    "        count = count+1\n",
    "\n",
    "if count == 2:\n",
    "    print(num,\"is Prime Number\")\n",
    "else:\n",
    "    print(num,\"is Not Prime Number\")"
   ]
  },
  {
   "cell_type": "markdown",
   "id": "d6c90e72-572f-4c71-9f72-3575e49a27d9",
   "metadata": {},
   "source": [
    "# 2.Product of Random Numbers"
   ]
  },
  {
   "cell_type": "code",
   "execution_count": 19,
   "id": "0b926622-6695-44ae-8831-d309e965cb7c",
   "metadata": {},
   "outputs": [
    {
     "name": "stdin",
     "output_type": "stream",
     "text": [
      "What is the product of 8 to 1 8\n"
     ]
    },
    {
     "name": "stdout",
     "output_type": "stream",
     "text": [
      "Correct ! Well done\n"
     ]
    }
   ],
   "source": [
    "import random \n",
    "\n",
    "num1 = random.randint(1,10)\n",
    "num2 = random.randint(1,10)\n",
    "\n",
    "Correct_Product = num1*num2\n",
    "\n",
    "User_Answer = int(input(f\"What is the product of {num1} to {num2}\"))\n",
    "\n",
    "if User_Answer == Correct_Product:\n",
    "    print(\"Correct ! Well done\")\n",
    "else:\n",
    "    print(f\"Oops, The correct product was {Correct_Product}, Better luck Next time\")"
   ]
  },
  {
   "cell_type": "markdown",
   "id": "70d708e6-3d92-4251-adba-9658e6365756",
   "metadata": {},
   "source": [
    "# 3.Squares of Even/Odd Numbers"
   ]
  },
  {
   "cell_type": "code",
   "execution_count": 20,
   "id": "f6a0e732-3990-49af-8d75-ff8b209e64d8",
   "metadata": {},
   "outputs": [
    {
     "name": "stdout",
     "output_type": "stream",
     "text": [
      "Even is 100, Squared is 10000\n",
      "Odd is 101, Squared is 10000\n",
      "Even is 102, Squared is 10404\n",
      "Odd is 103, Squared is 10404\n",
      "Even is 104, Squared is 10816\n",
      "Odd is 105, Squared is 10816\n",
      "Even is 106, Squared is 11236\n",
      "Odd is 107, Squared is 11236\n",
      "Even is 108, Squared is 11664\n",
      "Odd is 109, Squared is 11664\n",
      "Even is 110, Squared is 12100\n",
      "Odd is 111, Squared is 12100\n",
      "Even is 112, Squared is 12544\n",
      "Odd is 113, Squared is 12544\n",
      "Even is 114, Squared is 12996\n",
      "Odd is 115, Squared is 12996\n",
      "Even is 116, Squared is 13456\n",
      "Odd is 117, Squared is 13456\n",
      "Even is 118, Squared is 13924\n",
      "Odd is 119, Squared is 13924\n",
      "Even is 120, Squared is 14400\n",
      "Odd is 121, Squared is 14400\n",
      "Even is 122, Squared is 14884\n",
      "Odd is 123, Squared is 14884\n",
      "Even is 124, Squared is 15376\n",
      "Odd is 125, Squared is 15376\n",
      "Even is 126, Squared is 15876\n",
      "Odd is 127, Squared is 15876\n",
      "Even is 128, Squared is 16384\n",
      "Odd is 129, Squared is 16384\n",
      "Even is 130, Squared is 16900\n",
      "Odd is 131, Squared is 16900\n",
      "Even is 132, Squared is 17424\n",
      "Odd is 133, Squared is 17424\n",
      "Even is 134, Squared is 17956\n",
      "Odd is 135, Squared is 17956\n",
      "Even is 136, Squared is 18496\n",
      "Odd is 137, Squared is 18496\n",
      "Even is 138, Squared is 19044\n",
      "Odd is 139, Squared is 19044\n",
      "Even is 140, Squared is 19600\n",
      "Odd is 141, Squared is 19600\n",
      "Even is 142, Squared is 20164\n",
      "Odd is 143, Squared is 20164\n",
      "Even is 144, Squared is 20736\n",
      "Odd is 145, Squared is 20736\n",
      "Even is 146, Squared is 21316\n",
      "Odd is 147, Squared is 21316\n",
      "Even is 148, Squared is 21904\n",
      "Odd is 149, Squared is 21904\n",
      "Even is 150, Squared is 22500\n",
      "Odd is 151, Squared is 22500\n",
      "Even is 152, Squared is 23104\n",
      "Odd is 153, Squared is 23104\n",
      "Even is 154, Squared is 23716\n",
      "Odd is 155, Squared is 23716\n",
      "Even is 156, Squared is 24336\n",
      "Odd is 157, Squared is 24336\n",
      "Even is 158, Squared is 24964\n",
      "Odd is 159, Squared is 24964\n",
      "Even is 160, Squared is 25600\n",
      "Odd is 161, Squared is 25600\n",
      "Even is 162, Squared is 26244\n",
      "Odd is 163, Squared is 26244\n",
      "Even is 164, Squared is 26896\n",
      "Odd is 165, Squared is 26896\n",
      "Even is 166, Squared is 27556\n",
      "Odd is 167, Squared is 27556\n",
      "Even is 168, Squared is 28224\n",
      "Odd is 169, Squared is 28224\n",
      "Even is 170, Squared is 28900\n",
      "Odd is 171, Squared is 28900\n",
      "Even is 172, Squared is 29584\n",
      "Odd is 173, Squared is 29584\n",
      "Even is 174, Squared is 30276\n",
      "Odd is 175, Squared is 30276\n",
      "Even is 176, Squared is 30976\n",
      "Odd is 177, Squared is 30976\n",
      "Even is 178, Squared is 31684\n",
      "Odd is 179, Squared is 31684\n",
      "Even is 180, Squared is 32400\n",
      "Odd is 181, Squared is 32400\n",
      "Even is 182, Squared is 33124\n",
      "Odd is 183, Squared is 33124\n",
      "Even is 184, Squared is 33856\n",
      "Odd is 185, Squared is 33856\n",
      "Even is 186, Squared is 34596\n",
      "Odd is 187, Squared is 34596\n",
      "Even is 188, Squared is 35344\n",
      "Odd is 189, Squared is 35344\n",
      "Even is 190, Squared is 36100\n",
      "Odd is 191, Squared is 36100\n",
      "Even is 192, Squared is 36864\n",
      "Odd is 193, Squared is 36864\n",
      "Even is 194, Squared is 37636\n",
      "Odd is 195, Squared is 37636\n",
      "Even is 196, Squared is 38416\n",
      "Odd is 197, Squared is 38416\n",
      "Even is 198, Squared is 39204\n",
      "Odd is 199, Squared is 39204\n",
      "Even is 200, Squared is 40000\n"
     ]
    }
   ],
   "source": [
    "for i in range(100,201):\n",
    "    if i%2 == 0:\n",
    "        sqr = i**2\n",
    "        print(f\"Even is {i}, Squared is {sqr}\")\n",
    "    else:\n",
    "        print(f\"Odd is {i}, Squared is {sqr}\")"
   ]
  },
  {
   "cell_type": "markdown",
   "id": "45e62407-e5a3-4a47-9e54-15afb0c76719",
   "metadata": {},
   "source": [
    "# 4.Word counter"
   ]
  },
  {
   "cell_type": "code",
   "execution_count": 21,
   "id": "c0fe483e-2d6c-4bde-888a-f44f9f40273f",
   "metadata": {},
   "outputs": [
    {
     "name": "stdout",
     "output_type": "stream",
     "text": [
      "'This': 2\n",
      "'is': 1\n",
      "'a': 1\n",
      "'sample': 1\n",
      "'text.': 1\n",
      "'text': 1\n",
      "'will': 1\n",
      "'be': 1\n",
      "'used': 1\n",
      "'to': 1\n",
      "'demonstrate': 1\n",
      "'the': 1\n",
      "'word': 1\n",
      "'counter.': 1\n"
     ]
    }
   ],
   "source": [
    "input_text = \"This is a sample text. This text will be used to demonstrate the word counter.\"\n",
    "\n",
    "words = input_text.split()\n",
    "\n",
    "word_count = {}\n",
    "\n",
    "for word in words:\n",
    "    if word in word_count:\n",
    "        word_count[word] += 1\n",
    "    else:\n",
    "        word_count[word] = 1\n",
    "\n",
    "for word, count in word_count.items():\n",
    "    print(f\"'{word}': {count}\")\n"
   ]
  },
  {
   "cell_type": "markdown",
   "id": "b8293044-bf57-40e0-b92f-4c2a2439a190",
   "metadata": {},
   "source": [
    "# 5.Palindrome"
   ]
  },
  {
   "cell_type": "code",
   "execution_count": 26,
   "id": "98722d41-eeec-4710-b0af-ebabcee65278",
   "metadata": {},
   "outputs": [
    {
     "name": "stdin",
     "output_type": "stream",
     "text": [
      " racecar\n"
     ]
    },
    {
     "name": "stdout",
     "output_type": "stream",
     "text": [
      "True\n"
     ]
    }
   ],
   "source": [
    "str = input()\n",
    "if str == str[::-1]:\n",
    "    print(\"True\")\n",
    "else:\n",
    "    print(\"False\")"
   ]
  }
 ],
 "metadata": {
  "kernelspec": {
   "display_name": "Python 3 (ipykernel)",
   "language": "python",
   "name": "python3"
  },
  "language_info": {
   "codemirror_mode": {
    "name": "ipython",
    "version": 3
   },
   "file_extension": ".py",
   "mimetype": "text/x-python",
   "name": "python",
   "nbconvert_exporter": "python",
   "pygments_lexer": "ipython3",
   "version": "3.12.7"
  }
 },
 "nbformat": 4,
 "nbformat_minor": 5
}
